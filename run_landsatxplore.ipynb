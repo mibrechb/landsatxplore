{
 "cells": [
  {
   "cell_type": "markdown",
   "id": "fb0dacf4",
   "metadata": {},
   "source": [
    "# Landsat Collection 2 downloader\n",
    "michael.brechbuehler@eawag.ch\n",
    "\n",
    "This notebook uses the [landsatxplore](https://github.com/yannforget/landsatxplore) python package to download Landsat Collection 2 scenes directly from USGS.\n",
    "\n",
    "### Setup environment\n",
    "To setup a new environment (using conda):\n",
    "> conda create --name landsatxplore -c conda-forge python=3 notebook nb_conda_kernels geopandas hvplot cartopy geoviews\n",
    "\n",
    "To setup a new environment (using conda and environment.yml):\n",
    "> conda env create -n landsatxplore --file environment.yml\n",
    "\n",
    "### Imports"
   ]
  },
  {
   "cell_type": "code",
   "execution_count": null,
   "id": "463ae57a",
   "metadata": {},
   "outputs": [],
   "source": [
    "import geopandas as gpd\n",
    "import pandas as pd\n",
    "import os\n",
    "import matplotlib.pyplot as plt\n",
    "import shapely\n",
    "import hvplot.pandas\n",
    "from tqdm import tqdm\n",
    "from pathlib import Path\n",
    "import tarfile\n",
    "from contextlib import closing\n",
    "\n",
    "# import landsatxplore\n",
    "import landsatxplore\n",
    "from landsatxplore.earthexplorer import EarthExplorer\n",
    "from landsatxplore.api import API"
   ]
  },
  {
   "cell_type": "markdown",
   "id": "026af66c-b2ae-414d-a80a-6449fca03028",
   "metadata": {},
   "source": [
    "## 1. Search query\n",
    "\n",
    "### USGS EROS credentials\n",
    "To allow queries and file downloads from the USGS EROS webserver a free account is necessary (https://ers.cr.usgs.gov/register)"
   ]
  },
  {
   "cell_type": "code",
   "execution_count": null,
   "id": "012342ff",
   "metadata": {},
   "outputs": [],
   "source": [
    "# Your USGS  credentials\n",
    "username = \"...\"\n",
    "password = \"...\""
   ]
  },
  {
   "cell_type": "markdown",
   "id": "12b96281-ceb1-4c2b-bc25-1c54e9e7a5a3",
   "metadata": {},
   "source": [
    "Now we can set the desired search parameters for our Landsat query. We also have to define which Landsat collection to use.\n",
    "\n",
    "| Dataset Name | Dataset ID |\n",
    "| :-- | -- |\n",
    "| Landsat 5 TM Collection 2 Level 1 | `landsat_tm_c2_l1` |\n",
    "| Landsat 5 TM Collection 2 Level 2 | `landsat_tm_c2_l2` |\n",
    "| Landsat 7 ETM+ Collection 2 Level 1 | `landsat_etm_c2_l1` |\n",
    "| Landsat 7 ETM+ Collection 2 Level 2 | `landsat_etm_c2_l2` |\n",
    "| Landsat 8 Collection 2 Level 1 | `landsat_ot_c2_l1` |\n",
    "| Landsat 8 Collection 2 Level 2 | `landsat_ot_c2_l2` |\n",
    "| Landsat 9 Collection 2 Level 1 | `landsat_ot_c2_l1` |\n",
    "| Landsat 9 Collection 2 Level 2 | `landsat_ot_c2_l2` |"
   ]
  },
  {
   "cell_type": "markdown",
   "id": "7a6fb9a2-9b08-4593-af02-8389e795cf93",
   "metadata": {},
   "source": [
    "### Search parameters"
   ]
  },
  {
   "cell_type": "code",
   "execution_count": null,
   "id": "03d1da6a-19f8-4e83-a3f4-65ffb29cf75f",
   "metadata": {},
   "outputs": [],
   "source": [
    "# Search parameters\n",
    "bbox = (6.117096, 46.189198, 6.938324 ,46.544463) # (lonmin, latmin, lonmax, latmax)\n",
    "\n",
    "search_params = {\n",
    "    'dataset': 'landsat_ot_c2_l2',\n",
    "    'bbox': bbox, \n",
    "    'start_date': '2023-01-01',\n",
    "    'end_date': '2023-12-31',\n",
    "    'months': [1,2,3,4,5,6,7,8,9,10,11,12],\n",
    "    'max_cloud_cover': 100,\n",
    "    'max_results': 1000, # Defaults to 100 if not specified\n",
    "}"
   ]
  },
  {
   "cell_type": "markdown",
   "id": "e1c83637-3727-4268-9a78-7d7b3be1541b",
   "metadata": {},
   "source": [
    "### Plot ROI"
   ]
  },
  {
   "cell_type": "code",
   "execution_count": null,
   "id": "961a276d",
   "metadata": {},
   "outputs": [],
   "source": [
    "# Plot bounding box on map\n",
    "bbox_poly = shapely.geometry.box(*bbox, ccw=True)\n",
    "df_bbox = gpd.GeoDataFrame([], geometry=[bbox_poly])\n",
    "\n",
    "plot_bbox = df_bbox.hvplot(title='ROI bounding box', geo=True, \n",
    "                           fill_alpha=0.2, color='red', line_color='red', \n",
    "                           #tiles='CartoLight'\n",
    "                           tiles='OSM', label='ROI'\n",
    "                          )\n",
    "\n",
    "plot_bbox"
   ]
  },
  {
   "cell_type": "markdown",
   "id": "8927f808-4f48-4f70-8d30-1bce4ee4928e",
   "metadata": {},
   "source": [
    "### Start search query"
   ]
  },
  {
   "cell_type": "code",
   "execution_count": null,
   "id": "6395f81e",
   "metadata": {},
   "outputs": [],
   "source": [
    "# initialize a new API instance\n",
    "api = API(username, password)\n",
    "\n",
    "# search for Landsat 8-9 L2C2 scenes\n",
    "scenes = api.search(**search_params)\n",
    "\n",
    "# logout\n",
    "api.logout()\n",
    "\n",
    "# create a GeoDataFrame from the returned metadata\n",
    "# to see all metadata check \"scenes\" dict\n",
    "df_scenes = pd.DataFrame(scenes)\n",
    "df_scenes = df_scenes[['display_id', 'data_type', 'wrs_path', 'wrs_row','satellite','cloud_cover','acquisition_date', 'spatial_coverage']]\n",
    "df_scenes.sort_values('acquisition_date', ascending=False, inplace=True)\n",
    "df_scenes['satellite'] = df_scenes.satellite.apply(lambda x: f'Landsat-{x}')\n",
    "df_scenes['tile'] = df_scenes.display_id.apply(lambda x: x.split('_')[2][:3]+'/'+x.split('_')[2][3:])\n",
    "gdf_scenes = gpd.GeoDataFrame(df_scenes.drop(columns='spatial_coverage'), geometry=df_scenes.spatial_coverage, crs='EPSG:4326')\n",
    "\n",
    "gdf_scenes"
   ]
  },
  {
   "cell_type": "markdown",
   "id": "9ffee4c7-f690-49c7-9d21-b96d9805c098",
   "metadata": {},
   "source": [
    "### Plot available tiles over ROI"
   ]
  },
  {
   "cell_type": "code",
   "execution_count": null,
   "id": "baa7a6d8",
   "metadata": {},
   "outputs": [],
   "source": [
    "gdf_tiles = gdf_scenes.groupby('tile').first().reset_index()[['tile', 'wrs_path', 'wrs_row', 'geometry']].set_crs('EPSG:4326')\n",
    "gdf_labels = gdf_tiles.set_geometry(gdf_tiles.centroid)\n",
    "\n",
    "plot_labels = gdf_labels.to_crs(\"EPSG:3857\").assign(x=lambda df: df.geometry.x, y=lambda df: df.geometry.y).hvplot.labels(text=\"tile\", x=\"x\", y=\"y\", text_color='white')\n",
    "\n",
    "plot_tiles = gdf_tiles.hvplot(title='Available tiles over ROI', geo=True,\n",
    "                              fill_alpha=0.3, line_color='blue',\n",
    "                              height=800, tiles='OSM', label='Landsat tile'\n",
    "                             ) * plot_bbox * plot_labels\n",
    "\n",
    "plot_tiles"
   ]
  },
  {
   "cell_type": "markdown",
   "id": "463a5fe3-1659-433a-9a31-1d7942e7947c",
   "metadata": {},
   "source": [
    "### Plot all available scenes"
   ]
  },
  {
   "cell_type": "code",
   "execution_count": null,
   "id": "ad0c29ae-6ea9-49ce-9ef1-a68f5d88efe0",
   "metadata": {},
   "outputs": [],
   "source": [
    "plot_scenes = df_scenes.hvplot.line(title=f'Available Landsat C2 scenes over ROI\\n{search_params[\"start_date\"]} to {search_params[\"end_date\"]}, n={df_scenes.shape[0]}',\n",
    "    x='acquisition_date', y='cloud_cover', color='grey', grid=True) *\\\n",
    "                df_scenes.hvplot.scatter(x='acquisition_date', y='cloud_cover', c='satellite',\n",
    "                                       hover_cols=['tile', 'acquisition_date'],\n",
    "                                       xlabel='Acq. date', ylabel='Cloud cover (%)', marker='o')\n",
    "plot_scenes"
   ]
  },
  {
   "cell_type": "markdown",
   "id": "d48bc0da",
   "metadata": {},
   "source": [
    "## 2. Download scenes\n",
    "### Filter and select scene IDs"
   ]
  },
  {
   "cell_type": "code",
   "execution_count": null,
   "id": "95ab9662",
   "metadata": {},
   "outputs": [],
   "source": [
    "# Select scene ids to download from dataframe\n",
    "#ids = df_scenes.display_id.values # all\n",
    "df_scenes_filt = df_scenes.loc[(df_scenes.cloud_cover < 2) & (df_scenes.tile=='196/028')] # filter by cloudcover and tile\n",
    "ids = df_scenes_filt.display_id.values\n",
    "df_scenes_filt"
   ]
  },
  {
   "cell_type": "markdown",
   "id": "41cc022e-2d4c-456b-8d62-64235984201a",
   "metadata": {},
   "source": [
    "### Download .tar files"
   ]
  },
  {
   "cell_type": "code",
   "execution_count": null,
   "id": "f9835322",
   "metadata": {},
   "outputs": [],
   "source": [
    "# set output directory\n",
    "path_output_dir = Path(rf\"E:/{search_params['dataset']}\")\n",
    "\n",
    "# initialize the API\n",
    "ee = EarthExplorer(username, password)\n",
    "\n",
    "# download the scenes\n",
    "for id in tqdm(ids, total=len(ids), desc=\"Total download progress\", position=-1):\n",
    "    path_output_file = path_output_dir.joinpath(id+'.tar')\n",
    "    try:\n",
    "        ee.download(id, output_dir=path_output_dir)\n",
    "        print('{} successful'.format(id))\n",
    "\n",
    "  # aditional error handling\n",
    "    except:\n",
    "        if path_output_file.exists():\n",
    "            print(f'{id} error but file exists')\n",
    "        else:\n",
    "            print(f'{id} error')\n",
    "\n",
    "ee.logout()"
   ]
  },
  {
   "cell_type": "markdown",
   "id": "a04a6d84-f531-49c7-9e81-7a24c9471c8d",
   "metadata": {},
   "source": [
    "### Extract .tar files\n",
    "Unpack compressed files and delete .tar files."
   ]
  },
  {
   "cell_type": "code",
   "execution_count": null,
   "id": "87827e22-4f8f-4c40-b214-51a635355f86",
   "metadata": {},
   "outputs": [],
   "source": [
    "paths_output = list(path_output_dir.glob('*.tar'))\n",
    "\n",
    "for path in tqdm(paths_output, desc=\"Total extraction progress\"):\n",
    "    with closing(tarfile.open(path)) as fl:\n",
    "        path_output_folder = path_output_dir.joinpath(path.name.split('.')[0])\n",
    "        path_output_folder.mkdir(parents=True, exist_ok=True)\n",
    "        fl.extractall(path_output_folder)\n",
    "    path.unlink()"
   ]
  },
  {
   "cell_type": "markdown",
   "id": "5ffc31f1-6abe-46f5-9134-084c49b65b89",
   "metadata": {},
   "source": [
    "## Remove unwanted bands\n",
    "Delete all files associated with surface reflectance bands based on \"SR_\" string."
   ]
  },
  {
   "cell_type": "code",
   "execution_count": null,
   "id": "45074b42-2728-444c-ba8f-30f87ab7e55d",
   "metadata": {},
   "outputs": [],
   "source": [
    "paths_output = list(path_output_dir.rglob('*SR_*'))\n",
    "\n",
    "for path in paths_output:\n",
    "    path.unlink()"
   ]
  }
 ],
 "metadata": {
  "kernelspec": {
   "display_name": "Python 3 (ipykernel)",
   "language": "python",
   "name": "python3"
  },
  "language_info": {
   "codemirror_mode": {
    "name": "ipython",
    "version": 3
   },
   "file_extension": ".py",
   "mimetype": "text/x-python",
   "name": "python",
   "nbconvert_exporter": "python",
   "pygments_lexer": "ipython3",
   "version": "3.11.6"
  }
 },
 "nbformat": 4,
 "nbformat_minor": 5
}
