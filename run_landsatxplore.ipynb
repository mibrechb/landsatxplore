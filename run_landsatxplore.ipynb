{
 "cells": [
  {
   "cell_type": "markdown",
   "id": "fb0dacf4",
   "metadata": {},
   "source": [
    "# Landsat Collection 2 downloader\n",
    "michael.brechbuehler@eawag.ch\n",
    "\n",
    "This notebook uses the [landsatxplore](https://github.com/yannforget/landsatxplore) python package to download Landsat Collection 2 scenes directly from USGS.\n",
    "\n",
    "### Setup environment\n",
    "To setup a new environment (using conda):\n",
    "> conda create --name landsatxplore -c conda-forge python=3 notebook nb_conda_kernels geopandas hvplot cartopy geoviews\n",
    "\n",
    "To setup a new environment (using conda and environment.yml):\n",
    "> conda env create -n landsatxplore --file environment.yml\n",
    "\n",
    "### Imports"
   ]
  },
  {
   "cell_type": "code",
   "execution_count": 211,
   "id": "463ae57a",
   "metadata": {},
   "outputs": [],
   "source": [
    "import geopandas as gpd\n",
    "import pandas as pd\n",
    "import os\n",
    "import matplotlib.pyplot as plt\n",
    "import shapely\n",
    "import hvplot.pandas\n",
    "from tqdm import tqdm\n",
    "from pathlib import Path\n",
    "import tarfile\n",
    "from contextlib import closing\n",
    "\n",
    "# import landsatxplore\n",
    "import landsatxplore\n",
    "from landsatxplore.earthexplorer import EarthExplorer\n",
    "from landsatxplore.api import API"
   ]
  },
  {
   "cell_type": "markdown",
   "id": "026af66c-b2ae-414d-a80a-6449fca03028",
   "metadata": {},
   "source": [
    "## 1. Search query\n",
    "\n",
    "### USGS EROS credentials\n",
    "To allow queries and file downloads from the USGS EROS webserver a free account is necessary (https://ers.cr.usgs.gov/register)"
   ]
  },
  {
   "cell_type": "code",
   "execution_count": 218,
   "id": "012342ff",
   "metadata": {},
   "outputs": [],
   "source": [
    "# Your USGS  credentials\n",
    "username = \"..\"\n",
    "password = \"..\""
   ]
  },
  {
   "cell_type": "markdown",
   "id": "12b96281-ceb1-4c2b-bc25-1c54e9e7a5a3",
   "metadata": {},
   "source": [
    "Now we can set the desired search parameters for our Landsat query. We also have to define which Landsat collection to use.\n",
    "\n",
    "| Dataset Name | Dataset ID |\n",
    "| :-- | -- |\n",
    "| Landsat 5 TM Collection 2 Level 1 | `landsat_tm_c2_l1` |\n",
    "| Landsat 5 TM Collection 2 Level 2 | `landsat_tm_c2_l2` |\n",
    "| Landsat 7 ETM+ Collection 2 Level 1 | `landsat_etm_c2_l1` |\n",
    "| Landsat 7 ETM+ Collection 2 Level 2 | `landsat_etm_c2_l2` |\n",
    "| Landsat 8 Collection 2 Level 1 | `landsat_ot_c2_l1` |\n",
    "| Landsat 8 Collection 2 Level 2 | `landsat_ot_c2_l2` |\n",
    "| Landsat 9 Collection 2 Level 1 | `landsat_ot_c2_l1` |\n",
    "| Landsat 9 Collection 2 Level 2 | `landsat_ot_c2_l2` |"
   ]
  },
  {
   "cell_type": "markdown",
   "id": "7a6fb9a2-9b08-4593-af02-8389e795cf93",
   "metadata": {},
   "source": [
    "### Search parameters"
   ]
  },
  {
   "cell_type": "code",
   "execution_count": 219,
   "id": "03d1da6a-19f8-4e83-a3f4-65ffb29cf75f",
   "metadata": {},
   "outputs": [],
   "source": [
    "# Search parameters\n",
    "bbox = (6.117096, 46.189198, 6.938324 ,46.544463) # (lonmin, latmin, lonmax, latmax)\n",
    "\n",
    "search_params = {\n",
    "    'dataset': 'landsat_ot_c2_l1',\n",
    "    'bbox': bbox, \n",
    "    'start_date': '2023-01-01',\n",
    "    'end_date': '2023-12-31',\n",
    "    'months': [1,2,3,4,5,6,7,8,9,10,11,12],\n",
    "    'max_cloud_cover': 100,\n",
    "    'max_results': 1000, # Defaults to 100 if not specified\n",
    "}"
   ]
  },
  {
   "cell_type": "markdown",
   "id": "e1c83637-3727-4268-9a78-7d7b3be1541b",
   "metadata": {},
   "source": [
    "### Plot ROI"
   ]
  },
  {
   "cell_type": "code",
   "execution_count": 220,
   "id": "961a276d",
   "metadata": {},
   "outputs": [
    {
     "data": {},
     "metadata": {},
     "output_type": "display_data"
    },
    {
     "data": {
      "application/vnd.holoviews_exec.v0+json": "",
      "text/html": [
       "<div id='p9657'>\n",
       "  <div id=\"e1ee7fff-3c92-4495-8d5f-5f012a9b2a98\" data-root-id=\"p9657\" style=\"display: contents;\"></div>\n",
       "</div>\n",
       "<script type=\"application/javascript\">(function(root) {\n",
       "  var docs_json = {\"493ecb04-bff6-4339-9d39-bca0966fdf2b\":{\"version\":\"3.3.0\",\"title\":\"Bokeh Application\",\"roots\":[{\"type\":\"object\",\"name\":\"Row\",\"id\":\"p9657\",\"attributes\":{\"name\":\"Row20338\",\"tags\":[\"embedded\"],\"stylesheets\":[\"\\n:host(.pn-loading.pn-arc):before, .pn-loading.pn-arc:before {\\n  background-image: url(\\\"data:image/svg+xml;base64,PHN2ZyB4bWxucz0iaHR0cDovL3d3dy53My5vcmcvMjAwMC9zdmciIHN0eWxlPSJtYXJnaW46IGF1dG87IGJhY2tncm91bmQ6IG5vbmU7IGRpc3BsYXk6IGJsb2NrOyBzaGFwZS1yZW5kZXJpbmc6IGF1dG87IiB2aWV3Qm94PSIwIDAgMTAwIDEwMCIgcHJlc2VydmVBc3BlY3RSYXRpbz0ieE1pZFlNaWQiPiAgPGNpcmNsZSBjeD0iNTAiIGN5PSI1MCIgZmlsbD0ibm9uZSIgc3Ryb2tlPSIjYzNjM2MzIiBzdHJva2Utd2lkdGg9IjEwIiByPSIzNSIgc3Ryb2tlLWRhc2hhcnJheT0iMTY0LjkzMzYxNDMxMzQ2NDE1IDU2Ljk3Nzg3MTQzNzgyMTM4Ij4gICAgPGFuaW1hdGVUcmFuc2Zvcm0gYXR0cmlidXRlTmFtZT0idHJhbnNmb3JtIiB0eXBlPSJyb3RhdGUiIHJlcGVhdENvdW50PSJpbmRlZmluaXRlIiBkdXI9IjFzIiB2YWx1ZXM9IjAgNTAgNTA7MzYwIDUwIDUwIiBrZXlUaW1lcz0iMDsxIj48L2FuaW1hdGVUcmFuc2Zvcm0+ICA8L2NpcmNsZT48L3N2Zz4=\\\");\\n  background-size: auto calc(min(50%, 400px));\\n}\",{\"type\":\"object\",\"name\":\"ImportedStyleSheet\",\"id\":\"p9660\",\"attributes\":{\"url\":\"https://cdn.holoviz.org/panel/1.3.1/dist/css/loading.css\"}},{\"type\":\"object\",\"name\":\"ImportedStyleSheet\",\"id\":\"p9734\",\"attributes\":{\"url\":\"https://cdn.holoviz.org/panel/1.3.1/dist/css/listpanel.css\"}},{\"type\":\"object\",\"name\":\"ImportedStyleSheet\",\"id\":\"p9658\",\"attributes\":{\"url\":\"https://cdn.holoviz.org/panel/1.3.1/dist/bundled/theme/default.css\"}},{\"type\":\"object\",\"name\":\"ImportedStyleSheet\",\"id\":\"p9659\",\"attributes\":{\"url\":\"https://cdn.holoviz.org/panel/1.3.1/dist/bundled/theme/native.css\"}}],\"margin\":0,\"sizing_mode\":\"stretch_width\",\"align\":\"start\",\"children\":[{\"type\":\"object\",\"name\":\"Spacer\",\"id\":\"p9661\",\"attributes\":{\"name\":\"HSpacer20348\",\"stylesheets\":[\"\\n:host(.pn-loading.pn-arc):before, .pn-loading.pn-arc:before {\\n  background-image: url(\\\"data:image/svg+xml;base64,PHN2ZyB4bWxucz0iaHR0cDovL3d3dy53My5vcmcvMjAwMC9zdmciIHN0eWxlPSJtYXJnaW46IGF1dG87IGJhY2tncm91bmQ6IG5vbmU7IGRpc3BsYXk6IGJsb2NrOyBzaGFwZS1yZW5kZXJpbmc6IGF1dG87IiB2aWV3Qm94PSIwIDAgMTAwIDEwMCIgcHJlc2VydmVBc3BlY3RSYXRpbz0ieE1pZFlNaWQiPiAgPGNpcmNsZSBjeD0iNTAiIGN5PSI1MCIgZmlsbD0ibm9uZSIgc3Ryb2tlPSIjYzNjM2MzIiBzdHJva2Utd2lkdGg9IjEwIiByPSIzNSIgc3Ryb2tlLWRhc2hhcnJheT0iMTY0LjkzMzYxNDMxMzQ2NDE1IDU2Ljk3Nzg3MTQzNzgyMTM4Ij4gICAgPGFuaW1hdGVUcmFuc2Zvcm0gYXR0cmlidXRlTmFtZT0idHJhbnNmb3JtIiB0eXBlPSJyb3RhdGUiIHJlcGVhdENvdW50PSJpbmRlZmluaXRlIiBkdXI9IjFzIiB2YWx1ZXM9IjAgNTAgNTA7MzYwIDUwIDUwIiBrZXlUaW1lcz0iMDsxIj48L2FuaW1hdGVUcmFuc2Zvcm0+ICA8L2NpcmNsZT48L3N2Zz4=\\\");\\n  background-size: auto calc(min(50%, 400px));\\n}\",{\"id\":\"p9660\"},{\"id\":\"p9658\"},{\"id\":\"p9659\"}],\"margin\":0,\"sizing_mode\":\"stretch_width\",\"align\":\"start\"}},{\"type\":\"object\",\"name\":\"Figure\",\"id\":\"p9681\",\"attributes\":{\"width\":null,\"height\":null,\"margin\":[5,10],\"sizing_mode\":\"fixed\",\"align\":\"start\",\"x_range\":{\"type\":\"object\",\"name\":\"Range1d\",\"id\":\"p9671\",\"attributes\":{\"tags\":[[[\"Longitude\",\"Longitude\",null]],[]],\"start\":671810.2771584517,\"end\":781512.4293338764,\"reset_start\":671810.2771584517,\"reset_end\":781512.4293338764,\"min_interval\":5}},\"y_range\":{\"type\":\"object\",\"name\":\"Range1d\",\"id\":\"p9672\",\"attributes\":{\"tags\":[[[\"Latitude\",\"Latitude\",null]],{\"type\":\"map\",\"entries\":[[\"invert_yaxis\",false],[\"autorange\",false]]}],\"start\":5807127.431060919,\"end\":5871626.16192134,\"reset_start\":5807127.431060919,\"reset_end\":5871626.16192134,\"min_interval\":5}},\"x_scale\":{\"type\":\"object\",\"name\":\"LinearScale\",\"id\":\"p9691\"},\"y_scale\":{\"type\":\"object\",\"name\":\"LinearScale\",\"id\":\"p9692\"},\"title\":{\"type\":\"object\",\"name\":\"Title\",\"id\":\"p9684\",\"attributes\":{\"text\":\"ROI bounding box\",\"text_color\":\"black\",\"text_font_size\":\"12pt\"}},\"renderers\":[{\"type\":\"object\",\"name\":\"TileRenderer\",\"id\":\"p9714\",\"attributes\":{\"level\":\"underlay\",\"tile_source\":{\"type\":\"object\",\"name\":\"WMTSTileSource\",\"id\":\"p9710\",\"attributes\":{\"url\":\"https://c.tile.openstreetmap.org/{Z}/{X}/{Y}.png\",\"attribution\":\"&copy; <a href=\\\"https://www.openstreetmap.org/copyright\\\">OpenStreetMap</a> contributors\"}}}},{\"type\":\"object\",\"name\":\"GlyphRenderer\",\"id\":\"p9725\",\"attributes\":{\"data_source\":{\"type\":\"object\",\"name\":\"ColumnDataSource\",\"id\":\"p9716\",\"attributes\":{\"selected\":{\"type\":\"object\",\"name\":\"Selection\",\"id\":\"p9717\",\"attributes\":{\"indices\":[],\"line_indices\":[]}},\"selection_policy\":{\"type\":\"object\",\"name\":\"UnionRenderers\",\"id\":\"p9718\"},\"data\":{\"type\":\"map\",\"entries\":[[\"xs\",[[[{\"type\":\"ndarray\",\"array\":{\"type\":\"bytes\",\"data\":\"xLCnYyWSJ0HEsKdjJZInQeqrEQbwxyRB6qsRBvDHJEE=\"},\"shape\":[4],\"dtype\":\"float64\",\"order\":\"little\"}]]]],[\"ys\",[[[{\"type\":\"ndarray\",\"array\":{\"type\":\"bytes\",\"data\":\"rFX9FYgqVkHnRgdQgGJWQedGB1CAYlZBrFX9FYgqVkE=\"},\"shape\":[4],\"dtype\":\"float64\",\"order\":\"little\"}]]]]]}}},\"view\":{\"type\":\"object\",\"name\":\"CDSView\",\"id\":\"p9726\",\"attributes\":{\"filter\":{\"type\":\"object\",\"name\":\"AllIndices\",\"id\":\"p9727\"}}},\"glyph\":{\"type\":\"object\",\"name\":\"MultiPolygons\",\"id\":\"p9722\",\"attributes\":{\"xs\":{\"type\":\"field\",\"field\":\"xs\"},\"ys\":{\"type\":\"field\",\"field\":\"ys\"},\"line_color\":{\"type\":\"value\",\"value\":\"red\"},\"fill_color\":{\"type\":\"value\",\"value\":\"red\"},\"fill_alpha\":{\"type\":\"value\",\"value\":0.2},\"hatch_color\":{\"type\":\"value\",\"value\":\"red\"}}},\"selection_glyph\":{\"type\":\"object\",\"name\":\"MultiPolygons\",\"id\":\"p9730\",\"attributes\":{\"xs\":{\"type\":\"field\",\"field\":\"xs\"},\"ys\":{\"type\":\"field\",\"field\":\"ys\"},\"line_color\":{\"type\":\"value\",\"value\":\"red\"},\"line_alpha\":{\"type\":\"value\",\"value\":1.0},\"line_width\":{\"type\":\"value\",\"value\":1},\"line_join\":{\"type\":\"value\",\"value\":\"bevel\"},\"line_cap\":{\"type\":\"value\",\"value\":\"butt\"},\"line_dash\":{\"type\":\"value\",\"value\":[]},\"line_dash_offset\":{\"type\":\"value\",\"value\":0},\"fill_color\":{\"type\":\"value\",\"value\":\"red\"},\"fill_alpha\":{\"type\":\"value\",\"value\":0.2},\"hatch_color\":{\"type\":\"value\",\"value\":\"red\"},\"hatch_alpha\":{\"type\":\"value\",\"value\":1.0},\"hatch_scale\":{\"type\":\"value\",\"value\":12.0},\"hatch_pattern\":{\"type\":\"value\",\"value\":null},\"hatch_weight\":{\"type\":\"value\",\"value\":1.0}}},\"nonselection_glyph\":{\"type\":\"object\",\"name\":\"MultiPolygons\",\"id\":\"p9723\",\"attributes\":{\"xs\":{\"type\":\"field\",\"field\":\"xs\"},\"ys\":{\"type\":\"field\",\"field\":\"ys\"},\"line_color\":{\"type\":\"value\",\"value\":\"red\"},\"line_alpha\":{\"type\":\"value\",\"value\":0.1},\"fill_color\":{\"type\":\"value\",\"value\":\"red\"},\"fill_alpha\":{\"type\":\"value\",\"value\":0.2},\"hatch_color\":{\"type\":\"value\",\"value\":\"red\"},\"hatch_alpha\":{\"type\":\"value\",\"value\":0.1}}},\"muted_glyph\":{\"type\":\"object\",\"name\":\"MultiPolygons\",\"id\":\"p9724\",\"attributes\":{\"xs\":{\"type\":\"field\",\"field\":\"xs\"},\"ys\":{\"type\":\"field\",\"field\":\"ys\"},\"line_color\":{\"type\":\"value\",\"value\":\"red\"},\"line_alpha\":{\"type\":\"value\",\"value\":0.2},\"fill_color\":{\"type\":\"value\",\"value\":\"red\"},\"fill_alpha\":{\"type\":\"value\",\"value\":0.2},\"hatch_color\":{\"type\":\"value\",\"value\":\"red\"},\"hatch_alpha\":{\"type\":\"value\",\"value\":0.2}}}}}],\"toolbar\":{\"type\":\"object\",\"name\":\"Toolbar\",\"id\":\"p9690\",\"attributes\":{\"tools\":[{\"type\":\"object\",\"name\":\"WheelZoomTool\",\"id\":\"p9675\",\"attributes\":{\"renderers\":\"auto\",\"zoom_on_axis\":false}},{\"type\":\"object\",\"name\":\"BoxZoomTool\",\"id\":\"p9676\",\"attributes\":{\"overlay\":{\"type\":\"object\",\"name\":\"BoxAnnotation\",\"id\":\"p1006\",\"attributes\":{\"syncable\":false,\"level\":\"overlay\",\"visible\":false,\"left_units\":\"canvas\",\"right_units\":\"canvas\",\"top_units\":\"canvas\",\"bottom_units\":\"canvas\",\"line_color\":\"black\",\"line_alpha\":1.0,\"line_width\":2,\"line_dash\":[4,4],\"fill_color\":\"lightgrey\",\"fill_alpha\":0.5}},\"match_aspect\":true}},{\"type\":\"object\",\"name\":\"PanTool\",\"id\":\"p9704\"},{\"type\":\"object\",\"name\":\"ResetTool\",\"id\":\"p9705\"}],\"active_drag\":{\"id\":\"p9704\"}}},\"left\":[{\"type\":\"object\",\"name\":\"LinearAxis\",\"id\":\"p9698\",\"attributes\":{\"ticker\":{\"type\":\"object\",\"name\":\"MercatorTicker\",\"id\":\"p9708\",\"attributes\":{\"mantissas\":[1,2,5],\"dimension\":\"lat\"}},\"formatter\":{\"type\":\"object\",\"name\":\"MercatorTickFormatter\",\"id\":\"p9709\",\"attributes\":{\"dimension\":\"lat\"}},\"axis_label\":\"Latitude\",\"major_label_policy\":{\"type\":\"object\",\"name\":\"AllLabels\",\"id\":\"p9701\"}}}],\"right\":[{\"type\":\"object\",\"name\":\"Legend\",\"id\":\"p9728\",\"attributes\":{\"location\":[0,0],\"click_policy\":\"mute\",\"items\":[{\"type\":\"object\",\"name\":\"LegendItem\",\"id\":\"p9729\",\"attributes\":{\"label\":{\"type\":\"value\",\"value\":\"ROI\"},\"renderers\":[{\"id\":\"p9725\"}]}}]}}],\"below\":[{\"type\":\"object\",\"name\":\"LinearAxis\",\"id\":\"p9693\",\"attributes\":{\"ticker\":{\"type\":\"object\",\"name\":\"MercatorTicker\",\"id\":\"p9706\",\"attributes\":{\"mantissas\":[1,2,5],\"dimension\":\"lon\"}},\"formatter\":{\"type\":\"object\",\"name\":\"MercatorTickFormatter\",\"id\":\"p9707\",\"attributes\":{\"dimension\":\"lon\"}},\"axis_label\":\"Longitude\",\"major_label_policy\":{\"type\":\"object\",\"name\":\"AllLabels\",\"id\":\"p9696\"}}}],\"center\":[{\"type\":\"object\",\"name\":\"Grid\",\"id\":\"p9697\",\"attributes\":{\"axis\":{\"id\":\"p9693\"},\"grid_line_color\":null}},{\"type\":\"object\",\"name\":\"Grid\",\"id\":\"p9702\",\"attributes\":{\"dimension\":1,\"axis\":{\"id\":\"p9698\"},\"grid_line_color\":null}}],\"frame_width\":510,\"frame_height\":300,\"min_border_top\":10,\"min_border_bottom\":10,\"min_border_left\":10,\"min_border_right\":10,\"output_backend\":\"webgl\",\"match_aspect\":true}},{\"type\":\"object\",\"name\":\"Spacer\",\"id\":\"p9732\",\"attributes\":{\"name\":\"HSpacer20351\",\"stylesheets\":[\"\\n:host(.pn-loading.pn-arc):before, .pn-loading.pn-arc:before {\\n  background-image: url(\\\"data:image/svg+xml;base64,PHN2ZyB4bWxucz0iaHR0cDovL3d3dy53My5vcmcvMjAwMC9zdmciIHN0eWxlPSJtYXJnaW46IGF1dG87IGJhY2tncm91bmQ6IG5vbmU7IGRpc3BsYXk6IGJsb2NrOyBzaGFwZS1yZW5kZXJpbmc6IGF1dG87IiB2aWV3Qm94PSIwIDAgMTAwIDEwMCIgcHJlc2VydmVBc3BlY3RSYXRpbz0ieE1pZFlNaWQiPiAgPGNpcmNsZSBjeD0iNTAiIGN5PSI1MCIgZmlsbD0ibm9uZSIgc3Ryb2tlPSIjYzNjM2MzIiBzdHJva2Utd2lkdGg9IjEwIiByPSIzNSIgc3Ryb2tlLWRhc2hhcnJheT0iMTY0LjkzMzYxNDMxMzQ2NDE1IDU2Ljk3Nzg3MTQzNzgyMTM4Ij4gICAgPGFuaW1hdGVUcmFuc2Zvcm0gYXR0cmlidXRlTmFtZT0idHJhbnNmb3JtIiB0eXBlPSJyb3RhdGUiIHJlcGVhdENvdW50PSJpbmRlZmluaXRlIiBkdXI9IjFzIiB2YWx1ZXM9IjAgNTAgNTA7MzYwIDUwIDUwIiBrZXlUaW1lcz0iMDsxIj48L2FuaW1hdGVUcmFuc2Zvcm0+ICA8L2NpcmNsZT48L3N2Zz4=\\\");\\n  background-size: auto calc(min(50%, 400px));\\n}\",{\"id\":\"p9660\"},{\"id\":\"p9658\"},{\"id\":\"p9659\"}],\"margin\":0,\"sizing_mode\":\"stretch_width\",\"align\":\"start\"}}]}}],\"defs\":[{\"type\":\"model\",\"name\":\"ReactiveHTML1\"},{\"type\":\"model\",\"name\":\"FlexBox1\",\"properties\":[{\"name\":\"align_content\",\"kind\":\"Any\",\"default\":\"flex-start\"},{\"name\":\"align_items\",\"kind\":\"Any\",\"default\":\"flex-start\"},{\"name\":\"flex_direction\",\"kind\":\"Any\",\"default\":\"row\"},{\"name\":\"flex_wrap\",\"kind\":\"Any\",\"default\":\"wrap\"},{\"name\":\"justify_content\",\"kind\":\"Any\",\"default\":\"flex-start\"}]},{\"type\":\"model\",\"name\":\"FloatPanel1\",\"properties\":[{\"name\":\"config\",\"kind\":\"Any\",\"default\":{\"type\":\"map\"}},{\"name\":\"contained\",\"kind\":\"Any\",\"default\":true},{\"name\":\"position\",\"kind\":\"Any\",\"default\":\"right-top\"},{\"name\":\"offsetx\",\"kind\":\"Any\",\"default\":null},{\"name\":\"offsety\",\"kind\":\"Any\",\"default\":null},{\"name\":\"theme\",\"kind\":\"Any\",\"default\":\"primary\"},{\"name\":\"status\",\"kind\":\"Any\",\"default\":\"normalized\"}]},{\"type\":\"model\",\"name\":\"GridStack1\",\"properties\":[{\"name\":\"mode\",\"kind\":\"Any\",\"default\":\"warn\"},{\"name\":\"ncols\",\"kind\":\"Any\",\"default\":null},{\"name\":\"nrows\",\"kind\":\"Any\",\"default\":null},{\"name\":\"allow_resize\",\"kind\":\"Any\",\"default\":true},{\"name\":\"allow_drag\",\"kind\":\"Any\",\"default\":true},{\"name\":\"state\",\"kind\":\"Any\",\"default\":[]}]},{\"type\":\"model\",\"name\":\"drag1\",\"properties\":[{\"name\":\"slider_width\",\"kind\":\"Any\",\"default\":5},{\"name\":\"slider_color\",\"kind\":\"Any\",\"default\":\"black\"},{\"name\":\"value\",\"kind\":\"Any\",\"default\":50}]},{\"type\":\"model\",\"name\":\"click1\",\"properties\":[{\"name\":\"terminal_output\",\"kind\":\"Any\",\"default\":\"\"},{\"name\":\"debug_name\",\"kind\":\"Any\",\"default\":\"\"},{\"name\":\"clears\",\"kind\":\"Any\",\"default\":0}]},{\"type\":\"model\",\"name\":\"toggle_value1\",\"properties\":[{\"name\":\"active_icons\",\"kind\":\"Any\",\"default\":{\"type\":\"map\"}},{\"name\":\"options\",\"kind\":\"Any\",\"default\":{\"type\":\"map\",\"entries\":[[\"favorite\",\"heart\"]]}},{\"name\":\"value\",\"kind\":\"Any\",\"default\":[]},{\"name\":\"_reactions\",\"kind\":\"Any\",\"default\":[]},{\"name\":\"_base_url\",\"kind\":\"Any\",\"default\":\"https://tabler-icons.io/static/tabler-icons/icons/\"}]},{\"type\":\"model\",\"name\":\"copy_to_clipboard1\",\"properties\":[{\"name\":\"value\",\"kind\":\"Any\",\"default\":null},{\"name\":\"fill\",\"kind\":\"Any\",\"default\":\"none\"}]},{\"type\":\"model\",\"name\":\"FastWrapper1\",\"properties\":[{\"name\":\"object\",\"kind\":\"Any\",\"default\":null},{\"name\":\"style\",\"kind\":\"Any\",\"default\":null}]},{\"type\":\"model\",\"name\":\"NotificationAreaBase1\",\"properties\":[{\"name\":\"js_events\",\"kind\":\"Any\",\"default\":{\"type\":\"map\"}},{\"name\":\"position\",\"kind\":\"Any\",\"default\":\"bottom-right\"},{\"name\":\"_clear\",\"kind\":\"Any\",\"default\":0}]},{\"type\":\"model\",\"name\":\"NotificationArea1\",\"properties\":[{\"name\":\"js_events\",\"kind\":\"Any\",\"default\":{\"type\":\"map\"}},{\"name\":\"notifications\",\"kind\":\"Any\",\"default\":[]},{\"name\":\"position\",\"kind\":\"Any\",\"default\":\"bottom-right\"},{\"name\":\"_clear\",\"kind\":\"Any\",\"default\":0},{\"name\":\"types\",\"kind\":\"Any\",\"default\":[{\"type\":\"map\",\"entries\":[[\"type\",\"warning\"],[\"background\",\"#ffc107\"],[\"icon\",{\"type\":\"map\",\"entries\":[[\"className\",\"fas fa-exclamation-triangle\"],[\"tagName\",\"i\"],[\"color\",\"white\"]]}]]},{\"type\":\"map\",\"entries\":[[\"type\",\"info\"],[\"background\",\"#007bff\"],[\"icon\",{\"type\":\"map\",\"entries\":[[\"className\",\"fas fa-info-circle\"],[\"tagName\",\"i\"],[\"color\",\"white\"]]}]]}]}]},{\"type\":\"model\",\"name\":\"Notification\",\"properties\":[{\"name\":\"background\",\"kind\":\"Any\",\"default\":null},{\"name\":\"duration\",\"kind\":\"Any\",\"default\":3000},{\"name\":\"icon\",\"kind\":\"Any\",\"default\":null},{\"name\":\"message\",\"kind\":\"Any\",\"default\":\"\"},{\"name\":\"notification_type\",\"kind\":\"Any\",\"default\":null},{\"name\":\"_destroyed\",\"kind\":\"Any\",\"default\":false}]},{\"type\":\"model\",\"name\":\"TemplateActions1\",\"properties\":[{\"name\":\"open_modal\",\"kind\":\"Any\",\"default\":0},{\"name\":\"close_modal\",\"kind\":\"Any\",\"default\":0}]},{\"type\":\"model\",\"name\":\"BootstrapTemplateActions1\",\"properties\":[{\"name\":\"open_modal\",\"kind\":\"Any\",\"default\":0},{\"name\":\"close_modal\",\"kind\":\"Any\",\"default\":0}]},{\"type\":\"model\",\"name\":\"MaterialTemplateActions1\",\"properties\":[{\"name\":\"open_modal\",\"kind\":\"Any\",\"default\":0},{\"name\":\"close_modal\",\"kind\":\"Any\",\"default\":0}]}]}};\n",
       "  var render_items = [{\"docid\":\"493ecb04-bff6-4339-9d39-bca0966fdf2b\",\"roots\":{\"p9657\":\"e1ee7fff-3c92-4495-8d5f-5f012a9b2a98\"},\"root_ids\":[\"p9657\"]}];\n",
       "  var docs = Object.values(docs_json)\n",
       "  if (!docs) {\n",
       "    return\n",
       "  }\n",
       "  const py_version = docs[0].version.replace('rc', '-rc.').replace('.dev', '-dev.')\n",
       "  const is_dev = py_version.indexOf(\"+\") !== -1 || py_version.indexOf(\"-\") !== -1\n",
       "  function embed_document(root) {\n",
       "    var Bokeh = get_bokeh(root)\n",
       "    Bokeh.embed.embed_items_notebook(docs_json, render_items);\n",
       "    for (const render_item of render_items) {\n",
       "      for (const root_id of render_item.root_ids) {\n",
       "\tconst id_el = document.getElementById(root_id)\n",
       "\tif (id_el.children.length && (id_el.children[0].className === 'bk-root')) {\n",
       "\t  const root_el = id_el.children[0]\n",
       "\t  root_el.id = root_el.id + '-rendered'\n",
       "\t}\n",
       "      }\n",
       "    }\n",
       "  }\n",
       "  function get_bokeh(root) {\n",
       "    if (root.Bokeh === undefined) {\n",
       "      return null\n",
       "    } else if (root.Bokeh.version !== py_version && !is_dev) {\n",
       "      if (root.Bokeh.versions === undefined || !root.Bokeh.versions.has(py_version)) {\n",
       "\treturn null\n",
       "      }\n",
       "      return root.Bokeh.versions.get(py_version);\n",
       "    } else if (root.Bokeh.version === py_version) {\n",
       "      return root.Bokeh\n",
       "    }\n",
       "    return null\n",
       "  }\n",
       "  function is_loaded(root) {\n",
       "    var Bokeh = get_bokeh(root)\n",
       "    return (Bokeh != null && Bokeh.Panel !== undefined)\n",
       "  }\n",
       "  if (is_loaded(root)) {\n",
       "    embed_document(root);\n",
       "  } else {\n",
       "    var attempts = 0;\n",
       "    var timer = setInterval(function(root) {\n",
       "      if (is_loaded(root)) {\n",
       "        clearInterval(timer);\n",
       "        embed_document(root);\n",
       "      } else if (document.readyState == \"complete\") {\n",
       "        attempts++;\n",
       "        if (attempts > 200) {\n",
       "          clearInterval(timer);\n",
       "\t  var Bokeh = get_bokeh(root)\n",
       "\t  if (Bokeh == null || Bokeh.Panel == null) {\n",
       "            console.warn(\"Panel: ERROR: Unable to run Panel code because Bokeh or Panel library is missing\");\n",
       "\t  } else {\n",
       "\t    console.warn(\"Panel: WARNING: Attempting to render but not all required libraries could be resolved.\")\n",
       "\t    embed_document(root)\n",
       "\t  }\n",
       "        }\n",
       "      }\n",
       "    }, 25, root)\n",
       "  }\n",
       "})(window);</script>"
      ],
      "text/plain": [
       ":Overlay\n",
       "   .WMTS.I       :WMTS   [Longitude,Latitude]\n",
       "   .Polygons.ROI :Polygons   [Longitude,Latitude]"
      ]
     },
     "execution_count": 220,
     "metadata": {
      "application/vnd.holoviews_exec.v0+json": {
       "id": "p9657"
      }
     },
     "output_type": "execute_result"
    }
   ],
   "source": [
    "# Plot bounding box on map\n",
    "bbox_poly = shapely.geometry.box(*bbox, ccw=True)\n",
    "df_bbox = gpd.GeoDataFrame([], geometry=[bbox_poly])\n",
    "\n",
    "plot_bbox = df_bbox.hvplot(title='ROI bounding box', geo=True, \n",
    "                           fill_alpha=0.2, color='red', line_color='red', \n",
    "                           #tiles='CartoLight'\n",
    "                           tiles='OSM', label='ROI'\n",
    "                          )\n",
    "\n",
    "plot_bbox"
   ]
  },
  {
   "cell_type": "markdown",
   "id": "8927f808-4f48-4f70-8d30-1bce4ee4928e",
   "metadata": {},
   "source": [
    "### Start search query"
   ]
  },
  {
   "cell_type": "code",
   "execution_count": 221,
   "id": "6395f81e",
   "metadata": {},
   "outputs": [
    {
     "data": {
      "text/html": [
       "<div>\n",
       "<style scoped>\n",
       "    .dataframe tbody tr th:only-of-type {\n",
       "        vertical-align: middle;\n",
       "    }\n",
       "\n",
       "    .dataframe tbody tr th {\n",
       "        vertical-align: top;\n",
       "    }\n",
       "\n",
       "    .dataframe thead th {\n",
       "        text-align: right;\n",
       "    }\n",
       "</style>\n",
       "<table border=\"1\" class=\"dataframe\">\n",
       "  <thead>\n",
       "    <tr style=\"text-align: right;\">\n",
       "      <th></th>\n",
       "      <th>display_id</th>\n",
       "      <th>wrs_path</th>\n",
       "      <th>wrs_row</th>\n",
       "      <th>satellite</th>\n",
       "      <th>cloud_cover</th>\n",
       "      <th>acquisition_date</th>\n",
       "      <th>tile</th>\n",
       "      <th>geometry</th>\n",
       "    </tr>\n",
       "  </thead>\n",
       "  <tbody>\n",
       "    <tr>\n",
       "      <th>0</th>\n",
       "      <td>LC09_L1TP_196027_20231107_20231107_02_T2</td>\n",
       "      <td>196</td>\n",
       "      <td>27</td>\n",
       "      <td>Landsat-9</td>\n",
       "      <td>90</td>\n",
       "      <td>2023-11-07</td>\n",
       "      <td>196/027</td>\n",
       "      <td>POLYGON ((4.87442 46.80431, 7.29193 46.37052, ...</td>\n",
       "    </tr>\n",
       "    <tr>\n",
       "      <th>1</th>\n",
       "      <td>LC09_L1TP_196028_20231107_20231107_02_T1</td>\n",
       "      <td>196</td>\n",
       "      <td>28</td>\n",
       "      <td>Landsat-9</td>\n",
       "      <td>76</td>\n",
       "      <td>2023-11-07</td>\n",
       "      <td>196/028</td>\n",
       "      <td>POLYGON ((4.37992 45.38048, 6.73762 44.95365, ...</td>\n",
       "    </tr>\n",
       "    <tr>\n",
       "      <th>2</th>\n",
       "      <td>LC09_L1TP_195028_20231031_20231031_02_T1</td>\n",
       "      <td>195</td>\n",
       "      <td>28</td>\n",
       "      <td>Landsat-9</td>\n",
       "      <td>79</td>\n",
       "      <td>2023-10-31</td>\n",
       "      <td>195/028</td>\n",
       "      <td>POLYGON ((5.92512 45.38061, 8.28257 44.95382, ...</td>\n",
       "    </tr>\n",
       "    <tr>\n",
       "      <th>3</th>\n",
       "      <td>LC08_L1GT_196027_20231030_20231030_02_RT</td>\n",
       "      <td>196</td>\n",
       "      <td>27</td>\n",
       "      <td>Landsat-8</td>\n",
       "      <td>100</td>\n",
       "      <td>2023-10-30</td>\n",
       "      <td>196/027</td>\n",
       "      <td>POLYGON ((4.86389 46.80551, 7.28102 46.36914, ...</td>\n",
       "    </tr>\n",
       "    <tr>\n",
       "      <th>4</th>\n",
       "      <td>LC08_L1GT_196028_20231030_20231030_02_RT</td>\n",
       "      <td>196</td>\n",
       "      <td>28</td>\n",
       "      <td>Landsat-8</td>\n",
       "      <td>100</td>\n",
       "      <td>2023-10-30</td>\n",
       "      <td>196/028</td>\n",
       "      <td>POLYGON ((4.36896 45.38172, 6.72631 44.95233, ...</td>\n",
       "    </tr>\n",
       "    <tr>\n",
       "      <th>...</th>\n",
       "      <td>...</td>\n",
       "      <td>...</td>\n",
       "      <td>...</td>\n",
       "      <td>...</td>\n",
       "      <td>...</td>\n",
       "      <td>...</td>\n",
       "      <td>...</td>\n",
       "      <td>...</td>\n",
       "    </tr>\n",
       "    <tr>\n",
       "      <th>113</th>\n",
       "      <td>LC08_L1GT_196027_20230115_20230131_02_T2</td>\n",
       "      <td>196</td>\n",
       "      <td>27</td>\n",
       "      <td>Landsat-8</td>\n",
       "      <td>96</td>\n",
       "      <td>2023-01-15</td>\n",
       "      <td>196/027</td>\n",
       "      <td>POLYGON ((4.87241 46.80517, 7.28974 46.36939, ...</td>\n",
       "    </tr>\n",
       "    <tr>\n",
       "      <th>114</th>\n",
       "      <td>LC08_L1GT_196028_20230115_20230131_02_T2</td>\n",
       "      <td>196</td>\n",
       "      <td>28</td>\n",
       "      <td>Landsat-8</td>\n",
       "      <td>100</td>\n",
       "      <td>2023-01-15</td>\n",
       "      <td>196/028</td>\n",
       "      <td>POLYGON ((4.37817 45.38130, 6.73570 44.95248, ...</td>\n",
       "    </tr>\n",
       "    <tr>\n",
       "      <th>115</th>\n",
       "      <td>LC08_L1GT_195028_20230108_20230124_02_T2</td>\n",
       "      <td>195</td>\n",
       "      <td>28</td>\n",
       "      <td>Landsat-8</td>\n",
       "      <td>100</td>\n",
       "      <td>2023-01-08</td>\n",
       "      <td>195/028</td>\n",
       "      <td>POLYGON ((5.91210 45.38145, 8.26950 44.95259, ...</td>\n",
       "    </tr>\n",
       "    <tr>\n",
       "      <th>116</th>\n",
       "      <td>LC09_L1TP_196027_20230107_20230314_02_T1</td>\n",
       "      <td>196</td>\n",
       "      <td>27</td>\n",
       "      <td>Landsat-9</td>\n",
       "      <td>11</td>\n",
       "      <td>2023-01-07</td>\n",
       "      <td>196/027</td>\n",
       "      <td>POLYGON ((4.84817 46.80420, 7.26584 46.37081, ...</td>\n",
       "    </tr>\n",
       "    <tr>\n",
       "      <th>117</th>\n",
       "      <td>LC09_L1TP_196028_20230107_20230314_02_T1</td>\n",
       "      <td>196</td>\n",
       "      <td>28</td>\n",
       "      <td>Landsat-9</td>\n",
       "      <td>24</td>\n",
       "      <td>2023-01-07</td>\n",
       "      <td>196/028</td>\n",
       "      <td>POLYGON ((4.35397 45.38036, 6.71180 44.95392, ...</td>\n",
       "    </tr>\n",
       "  </tbody>\n",
       "</table>\n",
       "<p>118 rows × 8 columns</p>\n",
       "</div>"
      ],
      "text/plain": [
       "                                   display_id  wrs_path  wrs_row  satellite  \\\n",
       "0    LC09_L1TP_196027_20231107_20231107_02_T2       196       27  Landsat-9   \n",
       "1    LC09_L1TP_196028_20231107_20231107_02_T1       196       28  Landsat-9   \n",
       "2    LC09_L1TP_195028_20231031_20231031_02_T1       195       28  Landsat-9   \n",
       "3    LC08_L1GT_196027_20231030_20231030_02_RT       196       27  Landsat-8   \n",
       "4    LC08_L1GT_196028_20231030_20231030_02_RT       196       28  Landsat-8   \n",
       "..                                        ...       ...      ...        ...   \n",
       "113  LC08_L1GT_196027_20230115_20230131_02_T2       196       27  Landsat-8   \n",
       "114  LC08_L1GT_196028_20230115_20230131_02_T2       196       28  Landsat-8   \n",
       "115  LC08_L1GT_195028_20230108_20230124_02_T2       195       28  Landsat-8   \n",
       "116  LC09_L1TP_196027_20230107_20230314_02_T1       196       27  Landsat-9   \n",
       "117  LC09_L1TP_196028_20230107_20230314_02_T1       196       28  Landsat-9   \n",
       "\n",
       "     cloud_cover acquisition_date     tile  \\\n",
       "0             90       2023-11-07  196/027   \n",
       "1             76       2023-11-07  196/028   \n",
       "2             79       2023-10-31  195/028   \n",
       "3            100       2023-10-30  196/027   \n",
       "4            100       2023-10-30  196/028   \n",
       "..           ...              ...      ...   \n",
       "113           96       2023-01-15  196/027   \n",
       "114          100       2023-01-15  196/028   \n",
       "115          100       2023-01-08  195/028   \n",
       "116           11       2023-01-07  196/027   \n",
       "117           24       2023-01-07  196/028   \n",
       "\n",
       "                                              geometry  \n",
       "0    POLYGON ((4.87442 46.80431, 7.29193 46.37052, ...  \n",
       "1    POLYGON ((4.37992 45.38048, 6.73762 44.95365, ...  \n",
       "2    POLYGON ((5.92512 45.38061, 8.28257 44.95382, ...  \n",
       "3    POLYGON ((4.86389 46.80551, 7.28102 46.36914, ...  \n",
       "4    POLYGON ((4.36896 45.38172, 6.72631 44.95233, ...  \n",
       "..                                                 ...  \n",
       "113  POLYGON ((4.87241 46.80517, 7.28974 46.36939, ...  \n",
       "114  POLYGON ((4.37817 45.38130, 6.73570 44.95248, ...  \n",
       "115  POLYGON ((5.91210 45.38145, 8.26950 44.95259, ...  \n",
       "116  POLYGON ((4.84817 46.80420, 7.26584 46.37081, ...  \n",
       "117  POLYGON ((4.35397 45.38036, 6.71180 44.95392, ...  \n",
       "\n",
       "[118 rows x 8 columns]"
      ]
     },
     "execution_count": 221,
     "metadata": {},
     "output_type": "execute_result"
    }
   ],
   "source": [
    "# initialize a new API instance\n",
    "api = API(username, password)\n",
    "\n",
    "# search for Landsat 8-9 L2C2 scenes\n",
    "scenes = api.search(**search_params)\n",
    "\n",
    "# logout\n",
    "api.logout()\n",
    "\n",
    "# create a GeoDataFrame from the returned metadata\n",
    "df_scenes = pd.DataFrame(scenes)\n",
    "df_scenes = df_scenes[['display_id','wrs_path', 'wrs_row','satellite','cloud_cover','acquisition_date', 'spatial_coverage']]\n",
    "df_scenes.sort_values('acquisition_date', ascending=False, inplace=True)\n",
    "df_scenes['satellite'] = df_scenes.satellite.apply(lambda x: f'Landsat-{x}')\n",
    "df_scenes['tile'] = df_scenes.display_id.apply(lambda x: x.split('_')[2][:3]+'/'+x.split('_')[2][3:])\n",
    "gdf_scenes = gpd.GeoDataFrame(df_scenes.drop(columns='spatial_coverage'), geometry=df_scenes.spatial_coverage, crs='EPSG:4326')\n",
    "\n",
    "gdf_scenes"
   ]
  },
  {
   "cell_type": "markdown",
   "id": "9ffee4c7-f690-49c7-9d21-b96d9805c098",
   "metadata": {},
   "source": [
    "### Plot available tiles over ROI"
   ]
  },
  {
   "cell_type": "code",
   "execution_count": 222,
   "id": "baa7a6d8",
   "metadata": {},
   "outputs": [
    {
     "name": "stderr",
     "output_type": "stream",
     "text": [
      "C:\\Users\\Michael\\AppData\\Local\\Temp\\ipykernel_23392\\3331222002.py:2: UserWarning: Geometry is in a geographic CRS. Results from 'centroid' are likely incorrect. Use 'GeoSeries.to_crs()' to re-project geometries to a projected CRS before this operation.\n",
      "\n",
      "  gdf_labels = gdf_tiles.set_geometry(gdf_tiles.centroid)\n"
     ]
    },
    {
     "data": {},
     "metadata": {},
     "output_type": "display_data"
    },
    {
     "data": {
      "application/vnd.holoviews_exec.v0+json": "",
      "text/html": [
       "<div id='p9738'>\n",
       "  <div id=\"ca8a7204-2ce1-45bd-9c7d-d5dcf6a03866\" data-root-id=\"p9738\" style=\"display: contents;\"></div>\n",
       "</div>\n",
       "<script type=\"application/javascript\">(function(root) {\n",
       "  var docs_json = {\"0f1b7a8b-cb73-4d71-9a2d-224a390b832e\":{\"version\":\"3.3.0\",\"title\":\"Bokeh Application\",\"roots\":[{\"type\":\"object\",\"name\":\"Row\",\"id\":\"p9738\",\"attributes\":{\"name\":\"Row20520\",\"tags\":[\"embedded\"],\"stylesheets\":[\"\\n:host(.pn-loading.pn-arc):before, .pn-loading.pn-arc:before {\\n  background-image: url(\\\"data:image/svg+xml;base64,PHN2ZyB4bWxucz0iaHR0cDovL3d3dy53My5vcmcvMjAwMC9zdmciIHN0eWxlPSJtYXJnaW46IGF1dG87IGJhY2tncm91bmQ6IG5vbmU7IGRpc3BsYXk6IGJsb2NrOyBzaGFwZS1yZW5kZXJpbmc6IGF1dG87IiB2aWV3Qm94PSIwIDAgMTAwIDEwMCIgcHJlc2VydmVBc3BlY3RSYXRpbz0ieE1pZFlNaWQiPiAgPGNpcmNsZSBjeD0iNTAiIGN5PSI1MCIgZmlsbD0ibm9uZSIgc3Ryb2tlPSIjYzNjM2MzIiBzdHJva2Utd2lkdGg9IjEwIiByPSIzNSIgc3Ryb2tlLWRhc2hhcnJheT0iMTY0LjkzMzYxNDMxMzQ2NDE1IDU2Ljk3Nzg3MTQzNzgyMTM4Ij4gICAgPGFuaW1hdGVUcmFuc2Zvcm0gYXR0cmlidXRlTmFtZT0idHJhbnNmb3JtIiB0eXBlPSJyb3RhdGUiIHJlcGVhdENvdW50PSJpbmRlZmluaXRlIiBkdXI9IjFzIiB2YWx1ZXM9IjAgNTAgNTA7MzYwIDUwIDUwIiBrZXlUaW1lcz0iMDsxIj48L2FuaW1hdGVUcmFuc2Zvcm0+ICA8L2NpcmNsZT48L3N2Zz4=\\\");\\n  background-size: auto calc(min(50%, 400px));\\n}\",{\"type\":\"object\",\"name\":\"ImportedStyleSheet\",\"id\":\"p9741\",\"attributes\":{\"url\":\"https://cdn.holoviz.org/panel/1.3.1/dist/css/loading.css\"}},{\"type\":\"object\",\"name\":\"ImportedStyleSheet\",\"id\":\"p9871\",\"attributes\":{\"url\":\"https://cdn.holoviz.org/panel/1.3.1/dist/css/listpanel.css\"}},{\"type\":\"object\",\"name\":\"ImportedStyleSheet\",\"id\":\"p9739\",\"attributes\":{\"url\":\"https://cdn.holoviz.org/panel/1.3.1/dist/bundled/theme/default.css\"}},{\"type\":\"object\",\"name\":\"ImportedStyleSheet\",\"id\":\"p9740\",\"attributes\":{\"url\":\"https://cdn.holoviz.org/panel/1.3.1/dist/bundled/theme/native.css\"}}],\"min_width\":700,\"margin\":0,\"sizing_mode\":\"stretch_width\",\"align\":\"start\",\"children\":[{\"type\":\"object\",\"name\":\"Spacer\",\"id\":\"p9742\",\"attributes\":{\"name\":\"HSpacer20530\",\"stylesheets\":[\"\\n:host(.pn-loading.pn-arc):before, .pn-loading.pn-arc:before {\\n  background-image: url(\\\"data:image/svg+xml;base64,PHN2ZyB4bWxucz0iaHR0cDovL3d3dy53My5vcmcvMjAwMC9zdmciIHN0eWxlPSJtYXJnaW46IGF1dG87IGJhY2tncm91bmQ6IG5vbmU7IGRpc3BsYXk6IGJsb2NrOyBzaGFwZS1yZW5kZXJpbmc6IGF1dG87IiB2aWV3Qm94PSIwIDAgMTAwIDEwMCIgcHJlc2VydmVBc3BlY3RSYXRpbz0ieE1pZFlNaWQiPiAgPGNpcmNsZSBjeD0iNTAiIGN5PSI1MCIgZmlsbD0ibm9uZSIgc3Ryb2tlPSIjYzNjM2MzIiBzdHJva2Utd2lkdGg9IjEwIiByPSIzNSIgc3Ryb2tlLWRhc2hhcnJheT0iMTY0LjkzMzYxNDMxMzQ2NDE1IDU2Ljk3Nzg3MTQzNzgyMTM4Ij4gICAgPGFuaW1hdGVUcmFuc2Zvcm0gYXR0cmlidXRlTmFtZT0idHJhbnNmb3JtIiB0eXBlPSJyb3RhdGUiIHJlcGVhdENvdW50PSJpbmRlZmluaXRlIiBkdXI9IjFzIiB2YWx1ZXM9IjAgNTAgNTA7MzYwIDUwIDUwIiBrZXlUaW1lcz0iMDsxIj48L2FuaW1hdGVUcmFuc2Zvcm0+ICA8L2NpcmNsZT48L3N2Zz4=\\\");\\n  background-size: auto calc(min(50%, 400px));\\n}\",{\"id\":\"p9741\"},{\"id\":\"p9739\"},{\"id\":\"p9740\"}],\"margin\":0,\"sizing_mode\":\"stretch_width\",\"align\":\"start\"}},{\"type\":\"object\",\"name\":\"Figure\",\"id\":\"p9777\",\"attributes\":{\"width\":700,\"height\":800,\"margin\":[5,10],\"sizing_mode\":\"fixed\",\"align\":\"start\",\"x_range\":{\"type\":\"object\",\"name\":\"Range1d\",\"id\":\"p9758\",\"attributes\":{\"tags\":[[[\"Longitude\",\"Longitude\",null]],[]],\"start\":436674.99254950427,\"end\":1047421.9871726194,\"reset_start\":436674.99254950427,\"reset_end\":1047421.9871726194,\"min_interval\":5}},\"y_range\":{\"type\":\"object\",\"name\":\"Range1d\",\"id\":\"p9759\",\"attributes\":{\"tags\":[[[\"Latitude\",\"Latitude\",null]],{\"type\":\"map\",\"entries\":[[\"invert_yaxis\",false],[\"autorange\",false]]}],\"start\":5563648.889563228,\"end\":6242850.510270354,\"reset_start\":5563648.889563228,\"reset_end\":6242850.510270354,\"min_interval\":5}},\"x_scale\":{\"type\":\"object\",\"name\":\"LinearScale\",\"id\":\"p9787\"},\"y_scale\":{\"type\":\"object\",\"name\":\"LinearScale\",\"id\":\"p9788\"},\"title\":{\"type\":\"object\",\"name\":\"Title\",\"id\":\"p9780\",\"attributes\":{\"text\":\"Available tiles over ROI\",\"text_color\":\"black\",\"text_font_size\":\"12pt\"}},\"renderers\":[{\"type\":\"object\",\"name\":\"TileRenderer\",\"id\":\"p9810\",\"attributes\":{\"level\":\"underlay\",\"tile_source\":{\"type\":\"object\",\"name\":\"WMTSTileSource\",\"id\":\"p9806\",\"attributes\":{\"url\":\"https://c.tile.openstreetmap.org/{Z}/{X}/{Y}.png\",\"attribution\":\"&copy; <a href=\\\"https://www.openstreetmap.org/copyright\\\">OpenStreetMap</a> contributors\"}}}},{\"type\":\"object\",\"name\":\"GlyphRenderer\",\"id\":\"p9823\",\"attributes\":{\"data_source\":{\"type\":\"object\",\"name\":\"ColumnDataSource\",\"id\":\"p9814\",\"attributes\":{\"selected\":{\"type\":\"object\",\"name\":\"Selection\",\"id\":\"p9815\",\"attributes\":{\"indices\":[],\"line_indices\":[]}},\"selection_policy\":{\"type\":\"object\",\"name\":\"UnionRenderers\",\"id\":\"p9816\"},\"data\":{\"type\":\"map\",\"entries\":[[\"xs\",[[[{\"type\":\"ndarray\",\"array\":{\"type\":\"bytes\",\"data\":\"AXC9rvogJEHAzSDzNiMsQfWe/QddaS5BGpteFAYoJkE=\"},\"shape\":[4],\"dtype\":\"float64\",\"order\":\"little\"}]],[[{\"type\":\"ndarray\",\"array\":{\"type\":\"bytes\",\"data\":\"uYKV5zOPIEFdz3beq8UoQdE62aBGJitBL/0eOBqsIkE=\"},\"shape\":[4],\"dtype\":\"float64\",\"order\":\"little\"}]],[[{\"type\":\"ndarray\",\"array\":{\"type\":\"bytes\",\"data\":\"/AhB20nCHUFC9ejamOMmQWenMuHbKSlBreG5CkvoIEE=\"},\"shape\":[4],\"dtype\":\"float64\",\"order\":\"little\"}]]]],[\"ys\",[[[{\"type\":\"ndarray\",\"array\":{\"type\":\"bytes\",\"data\":\"/NnARXqsVUEwtlaUq2pVQatVXiqIdFZBqhPXnBi5VkE=\"},\"shape\":[4],\"dtype\":\"float64\",\"order\":\"little\"}]],[[{\"type\":\"ndarray\",\"array\":{\"type\":\"bytes\",\"data\":\"eGGLsauLVkGVkFZbDUdWQaNM/EZsV1dBH7Nj9SOfV0E=\"},\"shape\":[4],\"dtype\":\"float64\",\"order\":\"little\"}]],[[{\"type\":\"ndarray\",\"array\":{\"type\":\"bytes\",\"data\":\"5xonH3WsVUG3BOPkpGpVQbMZhaZ/dFZBhoRTQRG5VkE=\"},\"shape\":[4],\"dtype\":\"float64\",\"order\":\"little\"}]]]]]}}},\"view\":{\"type\":\"object\",\"name\":\"CDSView\",\"id\":\"p9824\",\"attributes\":{\"filter\":{\"type\":\"object\",\"name\":\"AllIndices\",\"id\":\"p9825\"}}},\"glyph\":{\"type\":\"object\",\"name\":\"MultiPolygons\",\"id\":\"p9820\",\"attributes\":{\"xs\":{\"type\":\"field\",\"field\":\"xs\"},\"ys\":{\"type\":\"field\",\"field\":\"ys\"},\"line_color\":{\"type\":\"value\",\"value\":\"blue\"},\"fill_color\":{\"type\":\"value\",\"value\":\"#30a2da\"},\"fill_alpha\":{\"type\":\"value\",\"value\":0.3},\"hatch_color\":{\"type\":\"value\",\"value\":\"#30a2da\"}}},\"selection_glyph\":{\"type\":\"object\",\"name\":\"MultiPolygons\",\"id\":\"p9830\",\"attributes\":{\"xs\":{\"type\":\"field\",\"field\":\"xs\"},\"ys\":{\"type\":\"field\",\"field\":\"ys\"},\"line_color\":{\"type\":\"value\",\"value\":\"blue\"},\"line_alpha\":{\"type\":\"value\",\"value\":1.0},\"line_width\":{\"type\":\"value\",\"value\":1},\"line_join\":{\"type\":\"value\",\"value\":\"bevel\"},\"line_cap\":{\"type\":\"value\",\"value\":\"butt\"},\"line_dash\":{\"type\":\"value\",\"value\":[]},\"line_dash_offset\":{\"type\":\"value\",\"value\":0},\"fill_color\":{\"type\":\"value\",\"value\":\"#30a2da\"},\"fill_alpha\":{\"type\":\"value\",\"value\":0.3},\"hatch_color\":{\"type\":\"value\",\"value\":\"#30a2da\"},\"hatch_alpha\":{\"type\":\"value\",\"value\":1.0},\"hatch_scale\":{\"type\":\"value\",\"value\":12.0},\"hatch_pattern\":{\"type\":\"value\",\"value\":null},\"hatch_weight\":{\"type\":\"value\",\"value\":1.0}}},\"nonselection_glyph\":{\"type\":\"object\",\"name\":\"MultiPolygons\",\"id\":\"p9821\",\"attributes\":{\"xs\":{\"type\":\"field\",\"field\":\"xs\"},\"ys\":{\"type\":\"field\",\"field\":\"ys\"},\"line_color\":{\"type\":\"value\",\"value\":\"blue\"},\"line_alpha\":{\"type\":\"value\",\"value\":0.1},\"fill_color\":{\"type\":\"value\",\"value\":\"#30a2da\"},\"fill_alpha\":{\"type\":\"value\",\"value\":0.3},\"hatch_color\":{\"type\":\"value\",\"value\":\"#30a2da\"},\"hatch_alpha\":{\"type\":\"value\",\"value\":0.1}}},\"muted_glyph\":{\"type\":\"object\",\"name\":\"MultiPolygons\",\"id\":\"p9822\",\"attributes\":{\"xs\":{\"type\":\"field\",\"field\":\"xs\"},\"ys\":{\"type\":\"field\",\"field\":\"ys\"},\"line_color\":{\"type\":\"value\",\"value\":\"blue\"},\"line_alpha\":{\"type\":\"value\",\"value\":0.2},\"fill_color\":{\"type\":\"value\",\"value\":\"#30a2da\"},\"fill_alpha\":{\"type\":\"value\",\"value\":0.2},\"hatch_color\":{\"type\":\"value\",\"value\":\"#30a2da\"},\"hatch_alpha\":{\"type\":\"value\",\"value\":0.2}}}}},{\"type\":\"object\",\"name\":\"TileRenderer\",\"id\":\"p9835\",\"attributes\":{\"level\":\"underlay\",\"tile_source\":{\"type\":\"object\",\"name\":\"WMTSTileSource\",\"id\":\"p9831\",\"attributes\":{\"url\":\"https://c.tile.openstreetmap.org/{Z}/{X}/{Y}.png\",\"attribution\":\"&copy; <a href=\\\"https://www.openstreetmap.org/copyright\\\">OpenStreetMap</a> contributors\"}}}},{\"type\":\"object\",\"name\":\"GlyphRenderer\",\"id\":\"p9848\",\"attributes\":{\"data_source\":{\"type\":\"object\",\"name\":\"ColumnDataSource\",\"id\":\"p9839\",\"attributes\":{\"selected\":{\"type\":\"object\",\"name\":\"Selection\",\"id\":\"p9840\",\"attributes\":{\"indices\":[],\"line_indices\":[]}},\"selection_policy\":{\"type\":\"object\",\"name\":\"UnionRenderers\",\"id\":\"p9841\"},\"data\":{\"type\":\"map\",\"entries\":[[\"xs\",[[[{\"type\":\"ndarray\",\"array\":{\"type\":\"bytes\",\"data\":\"xLCnYyWSJ0HEsKdjJZInQeqrEQbwxyRB6qsRBvDHJEE=\"},\"shape\":[4],\"dtype\":\"float64\",\"order\":\"little\"}]]]],[\"ys\",[[[{\"type\":\"ndarray\",\"array\":{\"type\":\"bytes\",\"data\":\"rFX9FYgqVkHnRgdQgGJWQedGB1CAYlZBrFX9FYgqVkE=\"},\"shape\":[4],\"dtype\":\"float64\",\"order\":\"little\"}]]]]]}}},\"view\":{\"type\":\"object\",\"name\":\"CDSView\",\"id\":\"p9849\",\"attributes\":{\"filter\":{\"type\":\"object\",\"name\":\"AllIndices\",\"id\":\"p9850\"}}},\"glyph\":{\"type\":\"object\",\"name\":\"MultiPolygons\",\"id\":\"p9845\",\"attributes\":{\"xs\":{\"type\":\"field\",\"field\":\"xs\"},\"ys\":{\"type\":\"field\",\"field\":\"ys\"},\"line_color\":{\"type\":\"value\",\"value\":\"red\"},\"fill_color\":{\"type\":\"value\",\"value\":\"red\"},\"fill_alpha\":{\"type\":\"value\",\"value\":0.2},\"hatch_color\":{\"type\":\"value\",\"value\":\"red\"}}},\"selection_glyph\":{\"type\":\"object\",\"name\":\"MultiPolygons\",\"id\":\"p9854\",\"attributes\":{\"xs\":{\"type\":\"field\",\"field\":\"xs\"},\"ys\":{\"type\":\"field\",\"field\":\"ys\"},\"line_color\":{\"type\":\"value\",\"value\":\"red\"},\"line_alpha\":{\"type\":\"value\",\"value\":1.0},\"line_width\":{\"type\":\"value\",\"value\":1},\"line_join\":{\"type\":\"value\",\"value\":\"bevel\"},\"line_cap\":{\"type\":\"value\",\"value\":\"butt\"},\"line_dash\":{\"type\":\"value\",\"value\":[]},\"line_dash_offset\":{\"type\":\"value\",\"value\":0},\"fill_color\":{\"type\":\"value\",\"value\":\"red\"},\"fill_alpha\":{\"type\":\"value\",\"value\":0.2},\"hatch_color\":{\"type\":\"value\",\"value\":\"red\"},\"hatch_alpha\":{\"type\":\"value\",\"value\":1.0},\"hatch_scale\":{\"type\":\"value\",\"value\":12.0},\"hatch_pattern\":{\"type\":\"value\",\"value\":null},\"hatch_weight\":{\"type\":\"value\",\"value\":1.0}}},\"nonselection_glyph\":{\"type\":\"object\",\"name\":\"MultiPolygons\",\"id\":\"p9846\",\"attributes\":{\"xs\":{\"type\":\"field\",\"field\":\"xs\"},\"ys\":{\"type\":\"field\",\"field\":\"ys\"},\"line_color\":{\"type\":\"value\",\"value\":\"red\"},\"line_alpha\":{\"type\":\"value\",\"value\":0.1},\"fill_color\":{\"type\":\"value\",\"value\":\"red\"},\"fill_alpha\":{\"type\":\"value\",\"value\":0.2},\"hatch_color\":{\"type\":\"value\",\"value\":\"red\"},\"hatch_alpha\":{\"type\":\"value\",\"value\":0.1}}},\"muted_glyph\":{\"type\":\"object\",\"name\":\"MultiPolygons\",\"id\":\"p9847\",\"attributes\":{\"xs\":{\"type\":\"field\",\"field\":\"xs\"},\"ys\":{\"type\":\"field\",\"field\":\"ys\"},\"line_color\":{\"type\":\"value\",\"value\":\"red\"},\"line_alpha\":{\"type\":\"value\",\"value\":0.2},\"fill_color\":{\"type\":\"value\",\"value\":\"red\"},\"fill_alpha\":{\"type\":\"value\",\"value\":0.2},\"hatch_color\":{\"type\":\"value\",\"value\":\"red\"},\"hatch_alpha\":{\"type\":\"value\",\"value\":0.2}}}}},{\"type\":\"object\",\"name\":\"GlyphRenderer\",\"id\":\"p9864\",\"attributes\":{\"data_source\":{\"type\":\"object\",\"name\":\"ColumnDataSource\",\"id\":\"p9855\",\"attributes\":{\"selected\":{\"type\":\"object\",\"name\":\"Selection\",\"id\":\"p9856\",\"attributes\":{\"indices\":[],\"line_indices\":[]}},\"selection_policy\":{\"type\":\"object\",\"name\":\"UnionRenderers\",\"id\":\"p9857\"},\"data\":{\"type\":\"map\",\"entries\":[[\"x\",{\"type\":\"ndarray\",\"array\":{\"type\":\"bytes\",\"data\":\"WjKZXo03KUEAAAAAAAD4f1oHJW4ezCVBAAAAAAAA+H8Oi/644fcjQQ==\"},\"shape\":[5],\"dtype\":\"float64\",\"order\":\"little\"}],[\"y\",{\"type\":\"ndarray\",\"array\":{\"type\":\"bytes\",\"data\":\"f6btyLcQVkEAAAAAAAD4fw0DyE3O8VZBAAAAAAAA+H8hPiTasBBWQQ==\"},\"shape\":[5],\"dtype\":\"float64\",\"order\":\"little\"}],[\"tile\",[\"195/028\",\"nan\",\"196/027\",\"nan\",\"196/028\"]]]}}},\"view\":{\"type\":\"object\",\"name\":\"CDSView\",\"id\":\"p9865\",\"attributes\":{\"filter\":{\"type\":\"object\",\"name\":\"AllIndices\",\"id\":\"p9866\"}}},\"glyph\":{\"type\":\"object\",\"name\":\"Text\",\"id\":\"p9861\",\"attributes\":{\"tags\":[\"apply_ranges\"],\"x\":{\"type\":\"field\",\"field\":\"x\"},\"y\":{\"type\":\"field\",\"field\":\"y\"},\"text\":{\"type\":\"field\",\"field\":\"tile\"},\"text_color\":{\"type\":\"value\",\"value\":\"white\"},\"text_align\":{\"type\":\"value\",\"value\":\"center\"},\"text_baseline\":{\"type\":\"value\",\"value\":\"middle\"}}},\"selection_glyph\":{\"type\":\"object\",\"name\":\"Text\",\"id\":\"p9867\",\"attributes\":{\"tags\":[\"apply_ranges\"],\"x\":{\"type\":\"field\",\"field\":\"x\"},\"y\":{\"type\":\"field\",\"field\":\"y\"},\"text\":{\"type\":\"field\",\"field\":\"tile\"},\"angle\":{\"type\":\"value\",\"value\":0},\"x_offset\":{\"type\":\"value\",\"value\":0},\"y_offset\":{\"type\":\"value\",\"value\":0},\"text_color\":{\"type\":\"value\",\"value\":\"white\"},\"text_outline_color\":{\"type\":\"value\",\"value\":null},\"text_alpha\":{\"type\":\"value\",\"value\":1.0},\"text_font_style\":{\"type\":\"value\",\"value\":\"normal\"},\"text_align\":{\"type\":\"value\",\"value\":\"center\"},\"text_baseline\":{\"type\":\"value\",\"value\":\"middle\"},\"text_line_height\":{\"type\":\"value\",\"value\":1.2},\"background_fill_color\":{\"type\":\"value\",\"value\":null},\"background_fill_alpha\":{\"type\":\"value\",\"value\":1.0},\"background_hatch_color\":{\"type\":\"value\",\"value\":null},\"background_hatch_alpha\":{\"type\":\"value\",\"value\":1.0},\"background_hatch_scale\":{\"type\":\"value\",\"value\":12.0},\"background_hatch_pattern\":{\"type\":\"value\",\"value\":null},\"background_hatch_weight\":{\"type\":\"value\",\"value\":1.0},\"border_line_color\":{\"type\":\"value\",\"value\":null},\"border_line_alpha\":{\"type\":\"value\",\"value\":1.0},\"border_line_width\":{\"type\":\"value\",\"value\":1},\"border_line_join\":{\"type\":\"value\",\"value\":\"bevel\"},\"border_line_cap\":{\"type\":\"value\",\"value\":\"butt\"},\"border_line_dash\":{\"type\":\"value\",\"value\":[]},\"border_line_dash_offset\":{\"type\":\"value\",\"value\":0}}},\"nonselection_glyph\":{\"type\":\"object\",\"name\":\"Text\",\"id\":\"p9862\",\"attributes\":{\"tags\":[\"apply_ranges\"],\"x\":{\"type\":\"field\",\"field\":\"x\"},\"y\":{\"type\":\"field\",\"field\":\"y\"},\"text\":{\"type\":\"field\",\"field\":\"tile\"},\"text_color\":{\"type\":\"value\",\"value\":\"white\"},\"text_alpha\":{\"type\":\"value\",\"value\":0.1},\"text_align\":{\"type\":\"value\",\"value\":\"center\"},\"text_baseline\":{\"type\":\"value\",\"value\":\"middle\"}}},\"muted_glyph\":{\"type\":\"object\",\"name\":\"Text\",\"id\":\"p9863\",\"attributes\":{\"tags\":[\"apply_ranges\"],\"x\":{\"type\":\"field\",\"field\":\"x\"},\"y\":{\"type\":\"field\",\"field\":\"y\"},\"text\":{\"type\":\"field\",\"field\":\"tile\"},\"text_color\":{\"type\":\"value\",\"value\":\"white\"},\"text_alpha\":{\"type\":\"value\",\"value\":0.2},\"text_align\":{\"type\":\"value\",\"value\":\"center\"},\"text_baseline\":{\"type\":\"value\",\"value\":\"middle\"}}}}}],\"toolbar\":{\"type\":\"object\",\"name\":\"Toolbar\",\"id\":\"p9786\",\"attributes\":{\"tools\":[{\"type\":\"object\",\"name\":\"WheelZoomTool\",\"id\":\"p9762\",\"attributes\":{\"renderers\":\"auto\",\"zoom_on_axis\":false}},{\"type\":\"object\",\"name\":\"BoxZoomTool\",\"id\":\"p9763\",\"attributes\":{\"overlay\":{\"type\":\"object\",\"name\":\"BoxAnnotation\",\"id\":\"p1006\",\"attributes\":{\"syncable\":false,\"level\":\"overlay\",\"visible\":false,\"left_units\":\"canvas\",\"right_units\":\"canvas\",\"top_units\":\"canvas\",\"bottom_units\":\"canvas\",\"line_color\":\"black\",\"line_alpha\":1.0,\"line_width\":2,\"line_dash\":[4,4],\"fill_color\":\"lightgrey\",\"fill_alpha\":0.5}},\"match_aspect\":true}},{\"type\":\"object\",\"name\":\"HoverTool\",\"id\":\"p9776\",\"attributes\":{\"tags\":[\"hv_created\"],\"renderers\":[{\"id\":\"p9864\"}],\"tooltips\":[[\"x\",\"@{x}\"],[\"y\",\"@{y}\"],[\"tile\",\"@{tile}\"]]}},{\"type\":\"object\",\"name\":\"PanTool\",\"id\":\"p9800\"},{\"type\":\"object\",\"name\":\"ResetTool\",\"id\":\"p9801\"}],\"active_drag\":{\"id\":\"p9800\"}}},\"left\":[{\"type\":\"object\",\"name\":\"LinearAxis\",\"id\":\"p9794\",\"attributes\":{\"ticker\":{\"type\":\"object\",\"name\":\"MercatorTicker\",\"id\":\"p9804\",\"attributes\":{\"mantissas\":[1,2,5],\"dimension\":\"lat\"}},\"formatter\":{\"type\":\"object\",\"name\":\"MercatorTickFormatter\",\"id\":\"p9805\",\"attributes\":{\"dimension\":\"lat\"}},\"axis_label\":\"Latitude\",\"major_label_policy\":{\"type\":\"object\",\"name\":\"AllLabels\",\"id\":\"p9797\"}}}],\"right\":[{\"type\":\"object\",\"name\":\"Legend\",\"id\":\"p9826\",\"attributes\":{\"location\":[0,0],\"click_policy\":\"mute\",\"items\":[{\"type\":\"object\",\"name\":\"LegendItem\",\"id\":\"p9827\",\"attributes\":{\"label\":{\"type\":\"value\",\"value\":\"Landsat tile\"},\"renderers\":[{\"id\":\"p9823\"}]}},{\"type\":\"object\",\"name\":\"LegendItem\",\"id\":\"p9851\",\"attributes\":{\"label\":{\"type\":\"value\",\"value\":\"ROI\"},\"renderers\":[{\"id\":\"p9848\"}]}}]}}],\"below\":[{\"type\":\"object\",\"name\":\"LinearAxis\",\"id\":\"p9789\",\"attributes\":{\"ticker\":{\"type\":\"object\",\"name\":\"MercatorTicker\",\"id\":\"p9802\",\"attributes\":{\"mantissas\":[1,2,5],\"dimension\":\"lon\"}},\"formatter\":{\"type\":\"object\",\"name\":\"MercatorTickFormatter\",\"id\":\"p9803\",\"attributes\":{\"dimension\":\"lon\"}},\"axis_label\":\"Longitude\",\"major_label_policy\":{\"type\":\"object\",\"name\":\"AllLabels\",\"id\":\"p9792\"}}}],\"center\":[{\"type\":\"object\",\"name\":\"Grid\",\"id\":\"p9793\",\"attributes\":{\"axis\":{\"id\":\"p9789\"},\"grid_line_color\":null}},{\"type\":\"object\",\"name\":\"Grid\",\"id\":\"p9798\",\"attributes\":{\"dimension\":1,\"axis\":{\"id\":\"p9794\"},\"grid_line_color\":null}}],\"frame_width\":700,\"frame_height\":800,\"min_border_top\":10,\"min_border_bottom\":10,\"min_border_left\":10,\"min_border_right\":10,\"output_backend\":\"webgl\",\"match_aspect\":true}},{\"type\":\"object\",\"name\":\"Spacer\",\"id\":\"p9869\",\"attributes\":{\"name\":\"HSpacer20533\",\"stylesheets\":[\"\\n:host(.pn-loading.pn-arc):before, .pn-loading.pn-arc:before {\\n  background-image: url(\\\"data:image/svg+xml;base64,PHN2ZyB4bWxucz0iaHR0cDovL3d3dy53My5vcmcvMjAwMC9zdmciIHN0eWxlPSJtYXJnaW46IGF1dG87IGJhY2tncm91bmQ6IG5vbmU7IGRpc3BsYXk6IGJsb2NrOyBzaGFwZS1yZW5kZXJpbmc6IGF1dG87IiB2aWV3Qm94PSIwIDAgMTAwIDEwMCIgcHJlc2VydmVBc3BlY3RSYXRpbz0ieE1pZFlNaWQiPiAgPGNpcmNsZSBjeD0iNTAiIGN5PSI1MCIgZmlsbD0ibm9uZSIgc3Ryb2tlPSIjYzNjM2MzIiBzdHJva2Utd2lkdGg9IjEwIiByPSIzNSIgc3Ryb2tlLWRhc2hhcnJheT0iMTY0LjkzMzYxNDMxMzQ2NDE1IDU2Ljk3Nzg3MTQzNzgyMTM4Ij4gICAgPGFuaW1hdGVUcmFuc2Zvcm0gYXR0cmlidXRlTmFtZT0idHJhbnNmb3JtIiB0eXBlPSJyb3RhdGUiIHJlcGVhdENvdW50PSJpbmRlZmluaXRlIiBkdXI9IjFzIiB2YWx1ZXM9IjAgNTAgNTA7MzYwIDUwIDUwIiBrZXlUaW1lcz0iMDsxIj48L2FuaW1hdGVUcmFuc2Zvcm0+ICA8L2NpcmNsZT48L3N2Zz4=\\\");\\n  background-size: auto calc(min(50%, 400px));\\n}\",{\"id\":\"p9741\"},{\"id\":\"p9739\"},{\"id\":\"p9740\"}],\"margin\":0,\"sizing_mode\":\"stretch_width\",\"align\":\"start\"}}]}}],\"defs\":[{\"type\":\"model\",\"name\":\"ReactiveHTML1\"},{\"type\":\"model\",\"name\":\"FlexBox1\",\"properties\":[{\"name\":\"align_content\",\"kind\":\"Any\",\"default\":\"flex-start\"},{\"name\":\"align_items\",\"kind\":\"Any\",\"default\":\"flex-start\"},{\"name\":\"flex_direction\",\"kind\":\"Any\",\"default\":\"row\"},{\"name\":\"flex_wrap\",\"kind\":\"Any\",\"default\":\"wrap\"},{\"name\":\"justify_content\",\"kind\":\"Any\",\"default\":\"flex-start\"}]},{\"type\":\"model\",\"name\":\"FloatPanel1\",\"properties\":[{\"name\":\"config\",\"kind\":\"Any\",\"default\":{\"type\":\"map\"}},{\"name\":\"contained\",\"kind\":\"Any\",\"default\":true},{\"name\":\"position\",\"kind\":\"Any\",\"default\":\"right-top\"},{\"name\":\"offsetx\",\"kind\":\"Any\",\"default\":null},{\"name\":\"offsety\",\"kind\":\"Any\",\"default\":null},{\"name\":\"theme\",\"kind\":\"Any\",\"default\":\"primary\"},{\"name\":\"status\",\"kind\":\"Any\",\"default\":\"normalized\"}]},{\"type\":\"model\",\"name\":\"GridStack1\",\"properties\":[{\"name\":\"mode\",\"kind\":\"Any\",\"default\":\"warn\"},{\"name\":\"ncols\",\"kind\":\"Any\",\"default\":null},{\"name\":\"nrows\",\"kind\":\"Any\",\"default\":null},{\"name\":\"allow_resize\",\"kind\":\"Any\",\"default\":true},{\"name\":\"allow_drag\",\"kind\":\"Any\",\"default\":true},{\"name\":\"state\",\"kind\":\"Any\",\"default\":[]}]},{\"type\":\"model\",\"name\":\"drag1\",\"properties\":[{\"name\":\"slider_width\",\"kind\":\"Any\",\"default\":5},{\"name\":\"slider_color\",\"kind\":\"Any\",\"default\":\"black\"},{\"name\":\"value\",\"kind\":\"Any\",\"default\":50}]},{\"type\":\"model\",\"name\":\"click1\",\"properties\":[{\"name\":\"terminal_output\",\"kind\":\"Any\",\"default\":\"\"},{\"name\":\"debug_name\",\"kind\":\"Any\",\"default\":\"\"},{\"name\":\"clears\",\"kind\":\"Any\",\"default\":0}]},{\"type\":\"model\",\"name\":\"toggle_value1\",\"properties\":[{\"name\":\"active_icons\",\"kind\":\"Any\",\"default\":{\"type\":\"map\"}},{\"name\":\"options\",\"kind\":\"Any\",\"default\":{\"type\":\"map\",\"entries\":[[\"favorite\",\"heart\"]]}},{\"name\":\"value\",\"kind\":\"Any\",\"default\":[]},{\"name\":\"_reactions\",\"kind\":\"Any\",\"default\":[]},{\"name\":\"_base_url\",\"kind\":\"Any\",\"default\":\"https://tabler-icons.io/static/tabler-icons/icons/\"}]},{\"type\":\"model\",\"name\":\"copy_to_clipboard1\",\"properties\":[{\"name\":\"value\",\"kind\":\"Any\",\"default\":null},{\"name\":\"fill\",\"kind\":\"Any\",\"default\":\"none\"}]},{\"type\":\"model\",\"name\":\"FastWrapper1\",\"properties\":[{\"name\":\"object\",\"kind\":\"Any\",\"default\":null},{\"name\":\"style\",\"kind\":\"Any\",\"default\":null}]},{\"type\":\"model\",\"name\":\"NotificationAreaBase1\",\"properties\":[{\"name\":\"js_events\",\"kind\":\"Any\",\"default\":{\"type\":\"map\"}},{\"name\":\"position\",\"kind\":\"Any\",\"default\":\"bottom-right\"},{\"name\":\"_clear\",\"kind\":\"Any\",\"default\":0}]},{\"type\":\"model\",\"name\":\"NotificationArea1\",\"properties\":[{\"name\":\"js_events\",\"kind\":\"Any\",\"default\":{\"type\":\"map\"}},{\"name\":\"notifications\",\"kind\":\"Any\",\"default\":[]},{\"name\":\"position\",\"kind\":\"Any\",\"default\":\"bottom-right\"},{\"name\":\"_clear\",\"kind\":\"Any\",\"default\":0},{\"name\":\"types\",\"kind\":\"Any\",\"default\":[{\"type\":\"map\",\"entries\":[[\"type\",\"warning\"],[\"background\",\"#ffc107\"],[\"icon\",{\"type\":\"map\",\"entries\":[[\"className\",\"fas fa-exclamation-triangle\"],[\"tagName\",\"i\"],[\"color\",\"white\"]]}]]},{\"type\":\"map\",\"entries\":[[\"type\",\"info\"],[\"background\",\"#007bff\"],[\"icon\",{\"type\":\"map\",\"entries\":[[\"className\",\"fas fa-info-circle\"],[\"tagName\",\"i\"],[\"color\",\"white\"]]}]]}]}]},{\"type\":\"model\",\"name\":\"Notification\",\"properties\":[{\"name\":\"background\",\"kind\":\"Any\",\"default\":null},{\"name\":\"duration\",\"kind\":\"Any\",\"default\":3000},{\"name\":\"icon\",\"kind\":\"Any\",\"default\":null},{\"name\":\"message\",\"kind\":\"Any\",\"default\":\"\"},{\"name\":\"notification_type\",\"kind\":\"Any\",\"default\":null},{\"name\":\"_destroyed\",\"kind\":\"Any\",\"default\":false}]},{\"type\":\"model\",\"name\":\"TemplateActions1\",\"properties\":[{\"name\":\"open_modal\",\"kind\":\"Any\",\"default\":0},{\"name\":\"close_modal\",\"kind\":\"Any\",\"default\":0}]},{\"type\":\"model\",\"name\":\"BootstrapTemplateActions1\",\"properties\":[{\"name\":\"open_modal\",\"kind\":\"Any\",\"default\":0},{\"name\":\"close_modal\",\"kind\":\"Any\",\"default\":0}]},{\"type\":\"model\",\"name\":\"MaterialTemplateActions1\",\"properties\":[{\"name\":\"open_modal\",\"kind\":\"Any\",\"default\":0},{\"name\":\"close_modal\",\"kind\":\"Any\",\"default\":0}]}]}};\n",
       "  var render_items = [{\"docid\":\"0f1b7a8b-cb73-4d71-9a2d-224a390b832e\",\"roots\":{\"p9738\":\"ca8a7204-2ce1-45bd-9c7d-d5dcf6a03866\"},\"root_ids\":[\"p9738\"]}];\n",
       "  var docs = Object.values(docs_json)\n",
       "  if (!docs) {\n",
       "    return\n",
       "  }\n",
       "  const py_version = docs[0].version.replace('rc', '-rc.').replace('.dev', '-dev.')\n",
       "  const is_dev = py_version.indexOf(\"+\") !== -1 || py_version.indexOf(\"-\") !== -1\n",
       "  function embed_document(root) {\n",
       "    var Bokeh = get_bokeh(root)\n",
       "    Bokeh.embed.embed_items_notebook(docs_json, render_items);\n",
       "    for (const render_item of render_items) {\n",
       "      for (const root_id of render_item.root_ids) {\n",
       "\tconst id_el = document.getElementById(root_id)\n",
       "\tif (id_el.children.length && (id_el.children[0].className === 'bk-root')) {\n",
       "\t  const root_el = id_el.children[0]\n",
       "\t  root_el.id = root_el.id + '-rendered'\n",
       "\t}\n",
       "      }\n",
       "    }\n",
       "  }\n",
       "  function get_bokeh(root) {\n",
       "    if (root.Bokeh === undefined) {\n",
       "      return null\n",
       "    } else if (root.Bokeh.version !== py_version && !is_dev) {\n",
       "      if (root.Bokeh.versions === undefined || !root.Bokeh.versions.has(py_version)) {\n",
       "\treturn null\n",
       "      }\n",
       "      return root.Bokeh.versions.get(py_version);\n",
       "    } else if (root.Bokeh.version === py_version) {\n",
       "      return root.Bokeh\n",
       "    }\n",
       "    return null\n",
       "  }\n",
       "  function is_loaded(root) {\n",
       "    var Bokeh = get_bokeh(root)\n",
       "    return (Bokeh != null && Bokeh.Panel !== undefined)\n",
       "  }\n",
       "  if (is_loaded(root)) {\n",
       "    embed_document(root);\n",
       "  } else {\n",
       "    var attempts = 0;\n",
       "    var timer = setInterval(function(root) {\n",
       "      if (is_loaded(root)) {\n",
       "        clearInterval(timer);\n",
       "        embed_document(root);\n",
       "      } else if (document.readyState == \"complete\") {\n",
       "        attempts++;\n",
       "        if (attempts > 200) {\n",
       "          clearInterval(timer);\n",
       "\t  var Bokeh = get_bokeh(root)\n",
       "\t  if (Bokeh == null || Bokeh.Panel == null) {\n",
       "            console.warn(\"Panel: ERROR: Unable to run Panel code because Bokeh or Panel library is missing\");\n",
       "\t  } else {\n",
       "\t    console.warn(\"Panel: WARNING: Attempting to render but not all required libraries could be resolved.\")\n",
       "\t    embed_document(root)\n",
       "\t  }\n",
       "        }\n",
       "      }\n",
       "    }, 25, root)\n",
       "  }\n",
       "})(window);</script>"
      ],
      "text/plain": [
       ":Overlay\n",
       "   .WMTS.I                :WMTS   [Longitude,Latitude]\n",
       "   .Polygons.Landsat_tile :Polygons   [Longitude,Latitude]\n",
       "   .WMTS.II               :WMTS   [Longitude,Latitude]\n",
       "   .Polygons.ROI          :Polygons   [Longitude,Latitude]\n",
       "   .Labels.I              :Labels   [x,y]   (tile)"
      ]
     },
     "execution_count": 222,
     "metadata": {
      "application/vnd.holoviews_exec.v0+json": {
       "id": "p9738"
      }
     },
     "output_type": "execute_result"
    }
   ],
   "source": [
    "gdf_tiles = gdf_scenes.groupby('tile').first().reset_index()[['tile', 'wrs_path', 'wrs_row', 'geometry']].set_crs('EPSG:4326')\n",
    "gdf_labels = gdf_tiles.set_geometry(gdf_tiles.centroid)\n",
    "\n",
    "plot_labels = gdf_labels.to_crs(\"EPSG:3857\").assign(x=lambda df: df.geometry.x, y=lambda df: df.geometry.y).hvplot.labels(text=\"tile\", x=\"x\", y=\"y\", text_color='white')\n",
    "\n",
    "plot_tiles = gdf_tiles.hvplot(title='Available tiles over ROI', geo=True,\n",
    "                              fill_alpha=0.3, line_color='blue',\n",
    "                              height=800, tiles='OSM', label='Landsat tile'\n",
    "                             ) * plot_bbox * plot_labels\n",
    "\n",
    "plot_tiles"
   ]
  },
  {
   "cell_type": "markdown",
   "id": "463a5fe3-1659-433a-9a31-1d7942e7947c",
   "metadata": {},
   "source": [
    "### Plot all available scenes"
   ]
  },
  {
   "cell_type": "code",
   "execution_count": 226,
   "id": "ad0c29ae-6ea9-49ce-9ef1-a68f5d88efe0",
   "metadata": {},
   "outputs": [
    {
     "data": {},
     "metadata": {},
     "output_type": "display_data"
    },
    {
     "data": {
      "application/vnd.holoviews_exec.v0+json": "",
      "text/html": [
       "<div id='p9979'>\n",
       "  <div id=\"f7280e52-3476-42fa-8159-d06f8770cafc\" data-root-id=\"p9979\" style=\"display: contents;\"></div>\n",
       "</div>\n",
       "<script type=\"application/javascript\">(function(root) {\n",
       "  var docs_json = {\"de91cec3-819f-4913-80c9-cd229d0da0f2\":{\"version\":\"3.3.0\",\"title\":\"Bokeh Application\",\"roots\":[{\"type\":\"object\",\"name\":\"Row\",\"id\":\"p9979\",\"attributes\":{\"name\":\"Row21096\",\"tags\":[\"embedded\"],\"stylesheets\":[\"\\n:host(.pn-loading.pn-arc):before, .pn-loading.pn-arc:before {\\n  background-image: url(\\\"data:image/svg+xml;base64,PHN2ZyB4bWxucz0iaHR0cDovL3d3dy53My5vcmcvMjAwMC9zdmciIHN0eWxlPSJtYXJnaW46IGF1dG87IGJhY2tncm91bmQ6IG5vbmU7IGRpc3BsYXk6IGJsb2NrOyBzaGFwZS1yZW5kZXJpbmc6IGF1dG87IiB2aWV3Qm94PSIwIDAgMTAwIDEwMCIgcHJlc2VydmVBc3BlY3RSYXRpbz0ieE1pZFlNaWQiPiAgPGNpcmNsZSBjeD0iNTAiIGN5PSI1MCIgZmlsbD0ibm9uZSIgc3Ryb2tlPSIjYzNjM2MzIiBzdHJva2Utd2lkdGg9IjEwIiByPSIzNSIgc3Ryb2tlLWRhc2hhcnJheT0iMTY0LjkzMzYxNDMxMzQ2NDE1IDU2Ljk3Nzg3MTQzNzgyMTM4Ij4gICAgPGFuaW1hdGVUcmFuc2Zvcm0gYXR0cmlidXRlTmFtZT0idHJhbnNmb3JtIiB0eXBlPSJyb3RhdGUiIHJlcGVhdENvdW50PSJpbmRlZmluaXRlIiBkdXI9IjFzIiB2YWx1ZXM9IjAgNTAgNTA7MzYwIDUwIDUwIiBrZXlUaW1lcz0iMDsxIj48L2FuaW1hdGVUcmFuc2Zvcm0+ICA8L2NpcmNsZT48L3N2Zz4=\\\");\\n  background-size: auto calc(min(50%, 400px));\\n}\",{\"type\":\"object\",\"name\":\"ImportedStyleSheet\",\"id\":\"p9982\",\"attributes\":{\"url\":\"https://cdn.holoviz.org/panel/1.3.1/dist/css/loading.css\"}},{\"type\":\"object\",\"name\":\"ImportedStyleSheet\",\"id\":\"p10069\",\"attributes\":{\"url\":\"https://cdn.holoviz.org/panel/1.3.1/dist/css/listpanel.css\"}},{\"type\":\"object\",\"name\":\"ImportedStyleSheet\",\"id\":\"p9980\",\"attributes\":{\"url\":\"https://cdn.holoviz.org/panel/1.3.1/dist/bundled/theme/default.css\"}},{\"type\":\"object\",\"name\":\"ImportedStyleSheet\",\"id\":\"p9981\",\"attributes\":{\"url\":\"https://cdn.holoviz.org/panel/1.3.1/dist/bundled/theme/native.css\"}}],\"min_width\":700,\"margin\":0,\"sizing_mode\":\"stretch_width\",\"align\":\"start\",\"children\":[{\"type\":\"object\",\"name\":\"Spacer\",\"id\":\"p9983\",\"attributes\":{\"name\":\"HSpacer21106\",\"stylesheets\":[\"\\n:host(.pn-loading.pn-arc):before, .pn-loading.pn-arc:before {\\n  background-image: url(\\\"data:image/svg+xml;base64,PHN2ZyB4bWxucz0iaHR0cDovL3d3dy53My5vcmcvMjAwMC9zdmciIHN0eWxlPSJtYXJnaW46IGF1dG87IGJhY2tncm91bmQ6IG5vbmU7IGRpc3BsYXk6IGJsb2NrOyBzaGFwZS1yZW5kZXJpbmc6IGF1dG87IiB2aWV3Qm94PSIwIDAgMTAwIDEwMCIgcHJlc2VydmVBc3BlY3RSYXRpbz0ieE1pZFlNaWQiPiAgPGNpcmNsZSBjeD0iNTAiIGN5PSI1MCIgZmlsbD0ibm9uZSIgc3Ryb2tlPSIjYzNjM2MzIiBzdHJva2Utd2lkdGg9IjEwIiByPSIzNSIgc3Ryb2tlLWRhc2hhcnJheT0iMTY0LjkzMzYxNDMxMzQ2NDE1IDU2Ljk3Nzg3MTQzNzgyMTM4Ij4gICAgPGFuaW1hdGVUcmFuc2Zvcm0gYXR0cmlidXRlTmFtZT0idHJhbnNmb3JtIiB0eXBlPSJyb3RhdGUiIHJlcGVhdENvdW50PSJpbmRlZmluaXRlIiBkdXI9IjFzIiB2YWx1ZXM9IjAgNTAgNTA7MzYwIDUwIDUwIiBrZXlUaW1lcz0iMDsxIj48L2FuaW1hdGVUcmFuc2Zvcm0+ICA8L2NpcmNsZT48L3N2Zz4=\\\");\\n  background-size: auto calc(min(50%, 400px));\\n}\",{\"id\":\"p9982\"},{\"id\":\"p9980\"},{\"id\":\"p9981\"}],\"margin\":0,\"sizing_mode\":\"stretch_width\",\"align\":\"start\"}},{\"type\":\"object\",\"name\":\"Figure\",\"id\":\"p9997\",\"attributes\":{\"width\":700,\"height\":300,\"margin\":[5,10],\"sizing_mode\":\"fixed\",\"align\":\"start\",\"x_range\":{\"type\":\"object\",\"name\":\"Range1d\",\"id\":\"p9987\",\"attributes\":{\"tags\":[[[\"acquisition_date\",\"acquisition_date\",null]],[]],\"start\":1673049600000.0,\"end\":1699315200000.0,\"reset_start\":1673049600000.0,\"reset_end\":1699315200000.0}},\"y_range\":{\"type\":\"object\",\"name\":\"Range1d\",\"id\":\"p9988\",\"attributes\":{\"tags\":[[[\"cloud_cover\",\"cloud_cover\",null]],{\"type\":\"map\",\"entries\":[[\"invert_yaxis\",false],[\"autorange\",false]]}],\"start\":-10.0,\"end\":110.0,\"reset_start\":-10.0,\"reset_end\":110.0}},\"x_scale\":{\"type\":\"object\",\"name\":\"LinearScale\",\"id\":\"p10007\"},\"y_scale\":{\"type\":\"object\",\"name\":\"LinearScale\",\"id\":\"p10008\"},\"title\":{\"type\":\"object\",\"name\":\"Title\",\"id\":\"p10000\",\"attributes\":{\"text\":\"Available Landsat C2 scenes over ROI\\n2023-01-01 to 2023-12-31, n=118\",\"text_color\":\"black\",\"text_font_size\":\"12pt\"}},\"renderers\":[{\"type\":\"object\",\"name\":\"GlyphRenderer\",\"id\":\"p10045\",\"attributes\":{\"data_source\":{\"type\":\"object\",\"name\":\"ColumnDataSource\",\"id\":\"p10036\",\"attributes\":{\"selected\":{\"type\":\"object\",\"name\":\"Selection\",\"id\":\"p10037\",\"attributes\":{\"indices\":[],\"line_indices\":[]}},\"selection_policy\":{\"type\":\"object\",\"name\":\"UnionRenderers\",\"id\":\"p10038\"},\"data\":{\"type\":\"map\",\"entries\":[[\"acquisition_date\",{\"type\":\"ndarray\",\"array\":{\"type\":\"bytes\",\"data\":\"AAAAb5hYeEIAAABvmFh4QgAAwNTqWHhCAAAAnStbeEIAAACdK1t4QgAAwAJ+W3hCAAAAy75deEIAAADLvl14QgAAwDARXnhCAAAA+VFgeEIAAAD5UWB4QgAAwF6kYHhCAAAAJ+VieEIAAAAn5WJ4QgAAwIw3Y3hCAAAAVXhleEIAAABVeGV4QgAAwLrKZXhCAAAAgwtoeEIAAACDC2h4QgAAwOhdaHhCAAAAsZ5qeEIAAACxnmp4QgAAwBbxanhCAAAA3zFteEIAAADfMW14QgAAwESEbXhCAAAADcVveEIAAAANxW94QgAAwHIXcHhCAAAAO1hyeEIAAAA7WHJ4QgAAwKCqcnhCAAAAaet0eEIAAABp63R4QgAAwM49dXhCAAAAl353eEIAAACXfnd4QgAAwPzQd3hCAAAAxRF6eEIAAADFEXp4QgAAAMURenhCAAAAxRF6eEIAAMAqZHp4QgAAAPOkfHhCAAAA86R8eEIAAMBY93x4QgAAACE4f3hCAAAAITh/eEIAAMCGin94QgAAAE/LgXhCAAAAT8uBeEIAAMC0HYJ4QgAAAH1ehHhCAAAAfV6EeEIAAMDisIR4QgAAAKvxhnhCAAAAq/GGeEIAAMAQRId4QgAAANmEiXhCAAAA2YSJeEIAAMA+14l4QgAAAAcYjHhCAAAABxiMeEIAAMBsaox4QgAAADWrjnhCAAAANauOeEIAAMCa/Y54QgAAAGM+kXhCAAAAYz6ReEIAAMDIkJF4QgAAAJHRk3hCAAAAkdGTeEIAAMD2I5R4QgAAAL9klnhCAAAAv2SWeEIAAMAkt5Z4QgAAAO33mHhCAAAA7feYeEIAAMBSSpl4QgAAABuLm3hCAAAAG4ubeEIAAMCA3Zt4QgAAAEkennhCAAAASR6eeEIAAMCucJ54QgAAAHexoHhCAAAAd7GgeEIAAMDcA6F4QgAAAKVEo3hCAAAApUSjeEIAAMAKl6N4QgAAANPXpXhCAAAA09eleEIAAMA4KqZ4QgAAAAFrqHhCAAAAAWuoeEIAAMBmvah4QgAAAC/+qnhCAAAAL/6qeEIAAMCUUKt4QgAAAF2RrXhCAAAAXZGteEIAAMDC4614QgAAAIsksHhCAAAAiySweEIAAMDwdrB4QgAAALm3snhCAAAAubeyeEIAAMAeCrN4QgAAAOdKtXhCAAAA50q1eEIAAMBMnbV4QgAAABXet3hCAAAAFd63eEIAAMB6MLh4QgAAAENxunhCAAAAQ3G6eEI=\"},\"shape\":[118],\"dtype\":\"float64\",\"order\":\"little\"}],[\"cloud_cover\",{\"type\":\"ndarray\",\"array\":{\"type\":\"bytes\",\"data\":\"GAAAAAsAAABkAAAAZAAAAGAAAABhAAAAPgAAAFkAAAApAAAABAAAACgAAAASAAAADQAAAAkAAAAPAAAAEAAAAAIAAAAoAAAAFgAAADwAAAAxAAAAKAAAAAsAAAAJAAAAVQAAAEsAAABCAAAAUAAAADYAAAAoAAAARgAAADwAAABIAAAAAAAAAAQAAAAUAAAATQAAAE4AAAAvAAAAUwAAAF4AAABgAAAAUQAAAEwAAABJAAAAYAAAAF8AAABkAAAAZAAAAEQAAABCAAAANQAAAFwAAABLAAAAPgAAAFAAAAAmAAAAAgAAADEAAAAeAAAAEwAAAEAAAAAYAAAACwAAAAkAAAABAAAAAAAAAAcAAABGAAAAQQAAAB4AAAANAAAAFgAAAAkAAABMAAAAIwAAACQAAABOAAAAUAAAACkAAAAzAAAATwAAAEEAAAABAAAAAQAAACgAAAACAAAAFAAAAAMAAABkAAAAZAAAADEAAAAIAAAABAAAAB4AAAAUAAAAHgAAAF0AAAAbAAAAAQAAAF8AAAAnAAAAHgAAAAIAAAACAAAACQAAAAEAAABYAAAAUAAAACYAAAAXAAAAFAAAAGQAAABkAAAAZAAAAE8AAABMAAAAWgAAAA==\"},\"shape\":[118],\"dtype\":\"int32\",\"order\":\"little\"}]]}}},\"view\":{\"type\":\"object\",\"name\":\"CDSView\",\"id\":\"p10046\",\"attributes\":{\"filter\":{\"type\":\"object\",\"name\":\"AllIndices\",\"id\":\"p10047\"}}},\"glyph\":{\"type\":\"object\",\"name\":\"Line\",\"id\":\"p10042\",\"attributes\":{\"tags\":[\"apply_ranges\"],\"x\":{\"type\":\"field\",\"field\":\"acquisition_date\"},\"y\":{\"type\":\"field\",\"field\":\"cloud_cover\"},\"line_color\":\"grey\",\"line_width\":2}},\"selection_glyph\":{\"type\":\"object\",\"name\":\"Line\",\"id\":\"p10048\",\"attributes\":{\"tags\":[\"apply_ranges\"],\"x\":{\"type\":\"field\",\"field\":\"acquisition_date\"},\"y\":{\"type\":\"field\",\"field\":\"cloud_cover\"},\"line_color\":\"grey\",\"line_width\":2}},\"nonselection_glyph\":{\"type\":\"object\",\"name\":\"Line\",\"id\":\"p10043\",\"attributes\":{\"tags\":[\"apply_ranges\"],\"x\":{\"type\":\"field\",\"field\":\"acquisition_date\"},\"y\":{\"type\":\"field\",\"field\":\"cloud_cover\"},\"line_color\":\"grey\",\"line_alpha\":0.1,\"line_width\":2}},\"muted_glyph\":{\"type\":\"object\",\"name\":\"Line\",\"id\":\"p10044\",\"attributes\":{\"tags\":[\"apply_ranges\"],\"x\":{\"type\":\"field\",\"field\":\"acquisition_date\"},\"y\":{\"type\":\"field\",\"field\":\"cloud_cover\"},\"line_color\":\"grey\",\"line_alpha\":0.2,\"line_width\":2}}}},{\"type\":\"object\",\"name\":\"GlyphRenderer\",\"id\":\"p10061\",\"attributes\":{\"name\":\"color\",\"data_source\":{\"type\":\"object\",\"name\":\"ColumnDataSource\",\"id\":\"p10050\",\"attributes\":{\"selected\":{\"type\":\"object\",\"name\":\"Selection\",\"id\":\"p10051\",\"attributes\":{\"indices\":[],\"line_indices\":[]}},\"selection_policy\":{\"type\":\"object\",\"name\":\"UnionRenderers\",\"id\":\"p10052\"},\"data\":{\"type\":\"map\",\"entries\":[[\"acquisition_date\",{\"type\":\"ndarray\",\"array\":{\"type\":\"bytes\",\"data\":\"AAAAb5hYeEIAAABvmFh4QgAAwNTqWHhCAAAAnStbeEIAAACdK1t4QgAAwAJ+W3hCAAAAy75deEIAAADLvl14QgAAwDARXnhCAAAA+VFgeEIAAAD5UWB4QgAAwF6kYHhCAAAAJ+VieEIAAAAn5WJ4QgAAwIw3Y3hCAAAAVXhleEIAAABVeGV4QgAAwLrKZXhCAAAAgwtoeEIAAACDC2h4QgAAwOhdaHhCAAAAsZ5qeEIAAACxnmp4QgAAwBbxanhCAAAA3zFteEIAAADfMW14QgAAwESEbXhCAAAADcVveEIAAAANxW94QgAAwHIXcHhCAAAAO1hyeEIAAAA7WHJ4QgAAwKCqcnhCAAAAaet0eEIAAABp63R4QgAAwM49dXhCAAAAl353eEIAAACXfnd4QgAAwPzQd3hCAAAAxRF6eEIAAADFEXp4QgAAAMURenhCAAAAxRF6eEIAAMAqZHp4QgAAAPOkfHhCAAAA86R8eEIAAMBY93x4QgAAACE4f3hCAAAAITh/eEIAAMCGin94QgAAAE/LgXhCAAAAT8uBeEIAAMC0HYJ4QgAAAH1ehHhCAAAAfV6EeEIAAMDisIR4QgAAAKvxhnhCAAAAq/GGeEIAAMAQRId4QgAAANmEiXhCAAAA2YSJeEIAAMA+14l4QgAAAAcYjHhCAAAABxiMeEIAAMBsaox4QgAAADWrjnhCAAAANauOeEIAAMCa/Y54QgAAAGM+kXhCAAAAYz6ReEIAAMDIkJF4QgAAAJHRk3hCAAAAkdGTeEIAAMD2I5R4QgAAAL9klnhCAAAAv2SWeEIAAMAkt5Z4QgAAAO33mHhCAAAA7feYeEIAAMBSSpl4QgAAABuLm3hCAAAAG4ubeEIAAMCA3Zt4QgAAAEkennhCAAAASR6eeEIAAMCucJ54QgAAAHexoHhCAAAAd7GgeEIAAMDcA6F4QgAAAKVEo3hCAAAApUSjeEIAAMAKl6N4QgAAANPXpXhCAAAA09eleEIAAMA4KqZ4QgAAAAFrqHhCAAAAAWuoeEIAAMBmvah4QgAAAC/+qnhCAAAAL/6qeEIAAMCUUKt4QgAAAF2RrXhCAAAAXZGteEIAAMDC4614QgAAAIsksHhCAAAAiySweEIAAMDwdrB4QgAAALm3snhCAAAAubeyeEIAAMAeCrN4QgAAAOdKtXhCAAAA50q1eEIAAMBMnbV4QgAAABXet3hCAAAAFd63eEIAAMB6MLh4QgAAAENxunhCAAAAQ3G6eEI=\"},\"shape\":[118],\"dtype\":\"float64\",\"order\":\"little\"}],[\"cloud_cover\",{\"type\":\"ndarray\",\"array\":{\"type\":\"bytes\",\"data\":\"GAAAAAsAAABkAAAAZAAAAGAAAABhAAAAPgAAAFkAAAApAAAABAAAACgAAAASAAAADQAAAAkAAAAPAAAAEAAAAAIAAAAoAAAAFgAAADwAAAAxAAAAKAAAAAsAAAAJAAAAVQAAAEsAAABCAAAAUAAAADYAAAAoAAAARgAAADwAAABIAAAAAAAAAAQAAAAUAAAATQAAAE4AAAAvAAAAUwAAAF4AAABgAAAAUQAAAEwAAABJAAAAYAAAAF8AAABkAAAAZAAAAEQAAABCAAAANQAAAFwAAABLAAAAPgAAAFAAAAAmAAAAAgAAADEAAAAeAAAAEwAAAEAAAAAYAAAACwAAAAkAAAABAAAAAAAAAAcAAABGAAAAQQAAAB4AAAANAAAAFgAAAAkAAABMAAAAIwAAACQAAABOAAAAUAAAACkAAAAzAAAATwAAAEEAAAABAAAAAQAAACgAAAACAAAAFAAAAAMAAABkAAAAZAAAADEAAAAIAAAABAAAAB4AAAAUAAAAHgAAAF0AAAAbAAAAAQAAAF8AAAAnAAAAHgAAAAIAAAACAAAACQAAAAEAAABYAAAAUAAAACYAAAAXAAAAFAAAAGQAAABkAAAAZAAAAE8AAABMAAAAWgAAAA==\"},\"shape\":[118],\"dtype\":\"int32\",\"order\":\"little\"}],[\"satellite\",[\"Landsat-9\",\"Landsat-9\",\"Landsat-8\",\"Landsat-8\",\"Landsat-8\",\"Landsat-9\",\"Landsat-9\",\"Landsat-9\",\"Landsat-8\",\"Landsat-8\",\"Landsat-8\",\"Landsat-9\",\"Landsat-9\",\"Landsat-9\",\"Landsat-8\",\"Landsat-8\",\"Landsat-8\",\"Landsat-9\",\"Landsat-9\",\"Landsat-9\",\"Landsat-8\",\"Landsat-8\",\"Landsat-8\",\"Landsat-9\",\"Landsat-9\",\"Landsat-9\",\"Landsat-8\",\"Landsat-8\",\"Landsat-8\",\"Landsat-9\",\"Landsat-9\",\"Landsat-9\",\"Landsat-8\",\"Landsat-8\",\"Landsat-8\",\"Landsat-9\",\"Landsat-9\",\"Landsat-9\",\"Landsat-8\",\"Landsat-8\",\"Landsat-8\",\"Landsat-8\",\"Landsat-8\",\"Landsat-9\",\"Landsat-9\",\"Landsat-9\",\"Landsat-8\",\"Landsat-8\",\"Landsat-8\",\"Landsat-9\",\"Landsat-9\",\"Landsat-9\",\"Landsat-8\",\"Landsat-8\",\"Landsat-8\",\"Landsat-9\",\"Landsat-9\",\"Landsat-9\",\"Landsat-8\",\"Landsat-8\",\"Landsat-8\",\"Landsat-9\",\"Landsat-9\",\"Landsat-9\",\"Landsat-8\",\"Landsat-8\",\"Landsat-8\",\"Landsat-9\",\"Landsat-9\",\"Landsat-9\",\"Landsat-8\",\"Landsat-8\",\"Landsat-8\",\"Landsat-9\",\"Landsat-9\",\"Landsat-9\",\"Landsat-8\",\"Landsat-8\",\"Landsat-8\",\"Landsat-9\",\"Landsat-9\",\"Landsat-9\",\"Landsat-8\",\"Landsat-8\",\"Landsat-8\",\"Landsat-9\",\"Landsat-9\",\"Landsat-9\",\"Landsat-8\",\"Landsat-8\",\"Landsat-8\",\"Landsat-9\",\"Landsat-9\",\"Landsat-9\",\"Landsat-8\",\"Landsat-8\",\"Landsat-8\",\"Landsat-9\",\"Landsat-9\",\"Landsat-9\",\"Landsat-8\",\"Landsat-8\",\"Landsat-8\",\"Landsat-9\",\"Landsat-9\",\"Landsat-9\",\"Landsat-8\",\"Landsat-8\",\"Landsat-8\",\"Landsat-9\",\"Landsat-9\",\"Landsat-9\",\"Landsat-8\",\"Landsat-8\",\"Landsat-8\",\"Landsat-9\",\"Landsat-9\",\"Landsat-9\"]],[\"tile\",[\"196/028\",\"196/027\",\"195/028\",\"196/028\",\"196/027\",\"195/028\",\"196/028\",\"196/027\",\"195/028\",\"196/028\",\"196/027\",\"195/028\",\"196/027\",\"196/028\",\"195/028\",\"196/027\",\"196/028\",\"195/028\",\"196/028\",\"196/027\",\"195/028\",\"196/028\",\"196/027\",\"195/028\",\"196/027\",\"196/028\",\"195/028\",\"196/027\",\"196/028\",\"195/028\",\"196/027\",\"196/028\",\"195/028\",\"196/027\",\"196/028\",\"195/028\",\"196/028\",\"196/027\",\"195/028\",\"196/027\",\"196/028\",\"196/028\",\"196/027\",\"195/028\",\"196/027\",\"196/028\",\"195/028\",\"196/028\",\"196/027\",\"195/028\",\"196/028\",\"196/027\",\"195/028\",\"196/027\",\"196/028\",\"195/028\",\"196/028\",\"196/027\",\"195/028\",\"196/028\",\"196/027\",\"195/028\",\"196/027\",\"196/028\",\"195/028\",\"196/028\",\"196/027\",\"195/028\",\"196/028\",\"196/027\",\"195/028\",\"196/028\",\"196/027\",\"195/028\",\"196/027\",\"196/028\",\"195/028\",\"196/028\",\"196/027\",\"195/028\",\"196/028\",\"196/027\",\"195/028\",\"196/028\",\"196/027\",\"195/028\",\"196/028\",\"196/027\",\"195/028\",\"196/028\",\"196/027\",\"195/028\",\"196/028\",\"196/027\",\"195/028\",\"196/028\",\"196/027\",\"195/028\",\"196/028\",\"196/027\",\"195/028\",\"196/028\",\"196/027\",\"195/028\",\"196/028\",\"196/027\",\"195/028\",\"196/028\",\"196/027\",\"195/028\",\"196/028\",\"196/027\",\"195/028\",\"196/028\",\"196/027\",\"195/028\",\"196/028\",\"196/027\"]],[\"color\",[\"Landsat-9\",\"Landsat-9\",\"Landsat-8\",\"Landsat-8\",\"Landsat-8\",\"Landsat-9\",\"Landsat-9\",\"Landsat-9\",\"Landsat-8\",\"Landsat-8\",\"Landsat-8\",\"Landsat-9\",\"Landsat-9\",\"Landsat-9\",\"Landsat-8\",\"Landsat-8\",\"Landsat-8\",\"Landsat-9\",\"Landsat-9\",\"Landsat-9\",\"Landsat-8\",\"Landsat-8\",\"Landsat-8\",\"Landsat-9\",\"Landsat-9\",\"Landsat-9\",\"Landsat-8\",\"Landsat-8\",\"Landsat-8\",\"Landsat-9\",\"Landsat-9\",\"Landsat-9\",\"Landsat-8\",\"Landsat-8\",\"Landsat-8\",\"Landsat-9\",\"Landsat-9\",\"Landsat-9\",\"Landsat-8\",\"Landsat-8\",\"Landsat-8\",\"Landsat-8\",\"Landsat-8\",\"Landsat-9\",\"Landsat-9\",\"Landsat-9\",\"Landsat-8\",\"Landsat-8\",\"Landsat-8\",\"Landsat-9\",\"Landsat-9\",\"Landsat-9\",\"Landsat-8\",\"Landsat-8\",\"Landsat-8\",\"Landsat-9\",\"Landsat-9\",\"Landsat-9\",\"Landsat-8\",\"Landsat-8\",\"Landsat-8\",\"Landsat-9\",\"Landsat-9\",\"Landsat-9\",\"Landsat-8\",\"Landsat-8\",\"Landsat-8\",\"Landsat-9\",\"Landsat-9\",\"Landsat-9\",\"Landsat-8\",\"Landsat-8\",\"Landsat-8\",\"Landsat-9\",\"Landsat-9\",\"Landsat-9\",\"Landsat-8\",\"Landsat-8\",\"Landsat-8\",\"Landsat-9\",\"Landsat-9\",\"Landsat-9\",\"Landsat-8\",\"Landsat-8\",\"Landsat-8\",\"Landsat-9\",\"Landsat-9\",\"Landsat-9\",\"Landsat-8\",\"Landsat-8\",\"Landsat-8\",\"Landsat-9\",\"Landsat-9\",\"Landsat-9\",\"Landsat-8\",\"Landsat-8\",\"Landsat-8\",\"Landsat-9\",\"Landsat-9\",\"Landsat-9\",\"Landsat-8\",\"Landsat-8\",\"Landsat-8\",\"Landsat-9\",\"Landsat-9\",\"Landsat-9\",\"Landsat-8\",\"Landsat-8\",\"Landsat-8\",\"Landsat-9\",\"Landsat-9\",\"Landsat-9\",\"Landsat-8\",\"Landsat-8\",\"Landsat-8\",\"Landsat-9\",\"Landsat-9\",\"Landsat-9\"]]]}}},\"view\":{\"type\":\"object\",\"name\":\"CDSView\",\"id\":\"p10062\",\"attributes\":{\"filter\":{\"type\":\"object\",\"name\":\"AllIndices\",\"id\":\"p10063\"}}},\"glyph\":{\"type\":\"object\",\"name\":\"Scatter\",\"id\":\"p10056\",\"attributes\":{\"tags\":[\"apply_ranges\"],\"x\":{\"type\":\"field\",\"field\":\"acquisition_date\"},\"y\":{\"type\":\"field\",\"field\":\"cloud_cover\"},\"size\":{\"type\":\"value\",\"value\":5.477225575051661},\"line_color\":{\"type\":\"field\",\"field\":\"color\",\"transform\":{\"type\":\"object\",\"name\":\"CategoricalColorMapper\",\"id\":\"p10049\",\"attributes\":{\"palette\":[\"#1f77b3\",\"#ff7e0e\"],\"factors\":[\"Landsat-9\",\"Landsat-8\"]}}},\"fill_color\":{\"type\":\"field\",\"field\":\"color\",\"transform\":{\"id\":\"p10049\"}},\"hatch_color\":{\"type\":\"field\",\"field\":\"color\",\"transform\":{\"id\":\"p10049\"}}}},\"selection_glyph\":{\"type\":\"object\",\"name\":\"Scatter\",\"id\":\"p10058\",\"attributes\":{\"tags\":[\"apply_ranges\"],\"x\":{\"type\":\"field\",\"field\":\"acquisition_date\"},\"y\":{\"type\":\"field\",\"field\":\"cloud_cover\"},\"size\":{\"type\":\"value\",\"value\":5.477225575051661},\"line_color\":{\"type\":\"field\",\"field\":\"color\",\"transform\":{\"id\":\"p10049\"}},\"fill_color\":{\"type\":\"field\",\"field\":\"color\",\"transform\":{\"id\":\"p10049\"}},\"hatch_color\":{\"type\":\"field\",\"field\":\"color\",\"transform\":{\"id\":\"p10049\"}}}},\"nonselection_glyph\":{\"type\":\"object\",\"name\":\"Scatter\",\"id\":\"p10057\",\"attributes\":{\"tags\":[\"apply_ranges\"],\"x\":{\"type\":\"field\",\"field\":\"acquisition_date\"},\"y\":{\"type\":\"field\",\"field\":\"cloud_cover\"},\"size\":{\"type\":\"value\",\"value\":5.477225575051661},\"line_color\":{\"type\":\"field\",\"field\":\"color\",\"transform\":{\"id\":\"p10049\"}},\"line_alpha\":{\"type\":\"value\",\"value\":0.1},\"fill_color\":{\"type\":\"field\",\"field\":\"color\",\"transform\":{\"id\":\"p10049\"}},\"fill_alpha\":{\"type\":\"value\",\"value\":0.1},\"hatch_color\":{\"type\":\"field\",\"field\":\"color\",\"transform\":{\"id\":\"p10049\"}},\"hatch_alpha\":{\"type\":\"value\",\"value\":0.1}}},\"hover_glyph\":{\"type\":\"object\",\"name\":\"Scatter\",\"id\":\"p10059\",\"attributes\":{\"tags\":[\"apply_ranges\"],\"x\":{\"type\":\"field\",\"field\":\"acquisition_date\"},\"y\":{\"type\":\"field\",\"field\":\"cloud_cover\"},\"size\":{\"type\":\"value\",\"value\":5.477225575051661},\"line_color\":{\"type\":\"field\",\"field\":\"color\",\"transform\":{\"id\":\"p10049\"}},\"fill_color\":{\"type\":\"field\",\"field\":\"color\",\"transform\":{\"id\":\"p10049\"}},\"hatch_color\":{\"type\":\"field\",\"field\":\"color\",\"transform\":{\"id\":\"p10049\"}}}},\"muted_glyph\":{\"type\":\"object\",\"name\":\"Scatter\",\"id\":\"p10060\",\"attributes\":{\"tags\":[\"apply_ranges\"],\"x\":{\"type\":\"field\",\"field\":\"acquisition_date\"},\"y\":{\"type\":\"field\",\"field\":\"cloud_cover\"},\"size\":{\"type\":\"value\",\"value\":5.477225575051661},\"line_color\":{\"type\":\"field\",\"field\":\"color\",\"transform\":{\"id\":\"p10049\"}},\"line_alpha\":{\"type\":\"value\",\"value\":0.2},\"fill_color\":{\"type\":\"field\",\"field\":\"color\",\"transform\":{\"id\":\"p10049\"}},\"fill_alpha\":{\"type\":\"value\",\"value\":0.2},\"hatch_color\":{\"type\":\"field\",\"field\":\"color\",\"transform\":{\"id\":\"p10049\"}},\"hatch_alpha\":{\"type\":\"value\",\"value\":0.2}}}}}],\"toolbar\":{\"type\":\"object\",\"name\":\"Toolbar\",\"id\":\"p10006\",\"attributes\":{\"tools\":[{\"type\":\"object\",\"name\":\"WheelZoomTool\",\"id\":\"p9992\",\"attributes\":{\"tags\":[\"hv_created\"],\"renderers\":\"auto\",\"zoom_together\":\"none\"}},{\"type\":\"object\",\"name\":\"HoverTool\",\"id\":\"p9993\",\"attributes\":{\"tags\":[\"hv_created\"],\"renderers\":[{\"id\":\"p10045\"}],\"tooltips\":[[\"acquisition_date\",\"@{acquisition_date}{%F %T}\"],[\"cloud_cover\",\"@{cloud_cover}\"]],\"formatters\":{\"type\":\"map\",\"entries\":[[\"@{acquisition_date}\",\"datetime\"]]}}},{\"type\":\"object\",\"name\":\"HoverTool\",\"id\":\"p9996\",\"attributes\":{\"tags\":[\"hv_created\"],\"renderers\":[{\"id\":\"p10061\"}],\"tooltips\":[[\"acquisition_date\",\"@{acquisition_date}{%F %T}\"],[\"cloud_cover\",\"@{cloud_cover}\"],[\"satellite\",\"@{satellite}\"],[\"tile\",\"@{tile}\"]],\"formatters\":{\"type\":\"map\",\"entries\":[[\"@{acquisition_date}\",\"datetime\"]]}}},{\"type\":\"object\",\"name\":\"SaveTool\",\"id\":\"p10031\"},{\"type\":\"object\",\"name\":\"PanTool\",\"id\":\"p10032\"},{\"type\":\"object\",\"name\":\"BoxZoomTool\",\"id\":\"p10033\",\"attributes\":{\"overlay\":{\"type\":\"object\",\"name\":\"BoxAnnotation\",\"id\":\"p10034\",\"attributes\":{\"syncable\":false,\"level\":\"overlay\",\"visible\":false,\"left_units\":\"canvas\",\"right_units\":\"canvas\",\"top_units\":\"canvas\",\"bottom_units\":\"canvas\",\"line_color\":\"black\",\"line_alpha\":1.0,\"line_width\":2,\"line_dash\":[4,4],\"fill_color\":\"lightgrey\",\"fill_alpha\":0.5}}}},{\"type\":\"object\",\"name\":\"ResetTool\",\"id\":\"p10035\"}],\"active_drag\":{\"id\":\"p10032\"}}},\"left\":[{\"type\":\"object\",\"name\":\"LinearAxis\",\"id\":\"p10026\",\"attributes\":{\"ticker\":{\"type\":\"object\",\"name\":\"BasicTicker\",\"id\":\"p10027\",\"attributes\":{\"mantissas\":[1,2,5]}},\"formatter\":{\"type\":\"object\",\"name\":\"BasicTickFormatter\",\"id\":\"p10028\"},\"axis_label\":\"Cloud cover (%)\",\"major_label_policy\":{\"type\":\"object\",\"name\":\"AllLabels\",\"id\":\"p10029\"}}}],\"right\":[{\"type\":\"object\",\"name\":\"Legend\",\"id\":\"p10064\",\"attributes\":{\"location\":[0,0],\"click_policy\":\"mute\",\"items\":[{\"type\":\"object\",\"name\":\"LegendItem\",\"id\":\"p10065\",\"attributes\":{\"label\":{\"type\":\"field\",\"field\":\"color\"},\"renderers\":[{\"id\":\"p10061\"}]}}]}}],\"below\":[{\"type\":\"object\",\"name\":\"DatetimeAxis\",\"id\":\"p10009\",\"attributes\":{\"ticker\":{\"type\":\"object\",\"name\":\"DatetimeTicker\",\"id\":\"p10010\",\"attributes\":{\"num_minor_ticks\":5,\"tickers\":[{\"type\":\"object\",\"name\":\"AdaptiveTicker\",\"id\":\"p10011\",\"attributes\":{\"num_minor_ticks\":0,\"mantissas\":[1,2,5],\"max_interval\":500.0}},{\"type\":\"object\",\"name\":\"AdaptiveTicker\",\"id\":\"p10012\",\"attributes\":{\"num_minor_ticks\":0,\"base\":60,\"mantissas\":[1,2,5,10,15,20,30],\"min_interval\":1000.0,\"max_interval\":1800000.0}},{\"type\":\"object\",\"name\":\"AdaptiveTicker\",\"id\":\"p10013\",\"attributes\":{\"num_minor_ticks\":0,\"base\":24,\"mantissas\":[1,2,4,6,8,12],\"min_interval\":3600000.0,\"max_interval\":43200000.0}},{\"type\":\"object\",\"name\":\"DaysTicker\",\"id\":\"p10014\",\"attributes\":{\"days\":[1,2,3,4,5,6,7,8,9,10,11,12,13,14,15,16,17,18,19,20,21,22,23,24,25,26,27,28,29,30,31]}},{\"type\":\"object\",\"name\":\"DaysTicker\",\"id\":\"p10015\",\"attributes\":{\"days\":[1,4,7,10,13,16,19,22,25,28]}},{\"type\":\"object\",\"name\":\"DaysTicker\",\"id\":\"p10016\",\"attributes\":{\"days\":[1,8,15,22]}},{\"type\":\"object\",\"name\":\"DaysTicker\",\"id\":\"p10017\",\"attributes\":{\"days\":[1,15]}},{\"type\":\"object\",\"name\":\"MonthsTicker\",\"id\":\"p10018\",\"attributes\":{\"months\":[0,1,2,3,4,5,6,7,8,9,10,11]}},{\"type\":\"object\",\"name\":\"MonthsTicker\",\"id\":\"p10019\",\"attributes\":{\"months\":[0,2,4,6,8,10]}},{\"type\":\"object\",\"name\":\"MonthsTicker\",\"id\":\"p10020\",\"attributes\":{\"months\":[0,4,8]}},{\"type\":\"object\",\"name\":\"MonthsTicker\",\"id\":\"p10021\",\"attributes\":{\"months\":[0,6]}},{\"type\":\"object\",\"name\":\"YearsTicker\",\"id\":\"p10022\"}]}},\"formatter\":{\"type\":\"object\",\"name\":\"DatetimeTickFormatter\",\"id\":\"p10023\"},\"axis_label\":\"Acq. date\",\"major_label_policy\":{\"type\":\"object\",\"name\":\"AllLabels\",\"id\":\"p10024\"}}}],\"center\":[{\"type\":\"object\",\"name\":\"Grid\",\"id\":\"p10025\",\"attributes\":{\"axis\":{\"id\":\"p10009\"},\"ticker\":{\"id\":\"p10010\"}}},{\"type\":\"object\",\"name\":\"Grid\",\"id\":\"p10030\",\"attributes\":{\"dimension\":1,\"axis\":{\"id\":\"p10026\"},\"ticker\":{\"id\":\"p10027\"}}}],\"min_border_top\":10,\"min_border_bottom\":10,\"min_border_left\":10,\"min_border_right\":10,\"output_backend\":\"webgl\"}},{\"type\":\"object\",\"name\":\"Spacer\",\"id\":\"p10067\",\"attributes\":{\"name\":\"HSpacer21109\",\"stylesheets\":[\"\\n:host(.pn-loading.pn-arc):before, .pn-loading.pn-arc:before {\\n  background-image: url(\\\"data:image/svg+xml;base64,PHN2ZyB4bWxucz0iaHR0cDovL3d3dy53My5vcmcvMjAwMC9zdmciIHN0eWxlPSJtYXJnaW46IGF1dG87IGJhY2tncm91bmQ6IG5vbmU7IGRpc3BsYXk6IGJsb2NrOyBzaGFwZS1yZW5kZXJpbmc6IGF1dG87IiB2aWV3Qm94PSIwIDAgMTAwIDEwMCIgcHJlc2VydmVBc3BlY3RSYXRpbz0ieE1pZFlNaWQiPiAgPGNpcmNsZSBjeD0iNTAiIGN5PSI1MCIgZmlsbD0ibm9uZSIgc3Ryb2tlPSIjYzNjM2MzIiBzdHJva2Utd2lkdGg9IjEwIiByPSIzNSIgc3Ryb2tlLWRhc2hhcnJheT0iMTY0LjkzMzYxNDMxMzQ2NDE1IDU2Ljk3Nzg3MTQzNzgyMTM4Ij4gICAgPGFuaW1hdGVUcmFuc2Zvcm0gYXR0cmlidXRlTmFtZT0idHJhbnNmb3JtIiB0eXBlPSJyb3RhdGUiIHJlcGVhdENvdW50PSJpbmRlZmluaXRlIiBkdXI9IjFzIiB2YWx1ZXM9IjAgNTAgNTA7MzYwIDUwIDUwIiBrZXlUaW1lcz0iMDsxIj48L2FuaW1hdGVUcmFuc2Zvcm0+ICA8L2NpcmNsZT48L3N2Zz4=\\\");\\n  background-size: auto calc(min(50%, 400px));\\n}\",{\"id\":\"p9982\"},{\"id\":\"p9980\"},{\"id\":\"p9981\"}],\"margin\":0,\"sizing_mode\":\"stretch_width\",\"align\":\"start\"}}]}}],\"defs\":[{\"type\":\"model\",\"name\":\"ReactiveHTML1\"},{\"type\":\"model\",\"name\":\"FlexBox1\",\"properties\":[{\"name\":\"align_content\",\"kind\":\"Any\",\"default\":\"flex-start\"},{\"name\":\"align_items\",\"kind\":\"Any\",\"default\":\"flex-start\"},{\"name\":\"flex_direction\",\"kind\":\"Any\",\"default\":\"row\"},{\"name\":\"flex_wrap\",\"kind\":\"Any\",\"default\":\"wrap\"},{\"name\":\"justify_content\",\"kind\":\"Any\",\"default\":\"flex-start\"}]},{\"type\":\"model\",\"name\":\"FloatPanel1\",\"properties\":[{\"name\":\"config\",\"kind\":\"Any\",\"default\":{\"type\":\"map\"}},{\"name\":\"contained\",\"kind\":\"Any\",\"default\":true},{\"name\":\"position\",\"kind\":\"Any\",\"default\":\"right-top\"},{\"name\":\"offsetx\",\"kind\":\"Any\",\"default\":null},{\"name\":\"offsety\",\"kind\":\"Any\",\"default\":null},{\"name\":\"theme\",\"kind\":\"Any\",\"default\":\"primary\"},{\"name\":\"status\",\"kind\":\"Any\",\"default\":\"normalized\"}]},{\"type\":\"model\",\"name\":\"GridStack1\",\"properties\":[{\"name\":\"mode\",\"kind\":\"Any\",\"default\":\"warn\"},{\"name\":\"ncols\",\"kind\":\"Any\",\"default\":null},{\"name\":\"nrows\",\"kind\":\"Any\",\"default\":null},{\"name\":\"allow_resize\",\"kind\":\"Any\",\"default\":true},{\"name\":\"allow_drag\",\"kind\":\"Any\",\"default\":true},{\"name\":\"state\",\"kind\":\"Any\",\"default\":[]}]},{\"type\":\"model\",\"name\":\"drag1\",\"properties\":[{\"name\":\"slider_width\",\"kind\":\"Any\",\"default\":5},{\"name\":\"slider_color\",\"kind\":\"Any\",\"default\":\"black\"},{\"name\":\"value\",\"kind\":\"Any\",\"default\":50}]},{\"type\":\"model\",\"name\":\"click1\",\"properties\":[{\"name\":\"terminal_output\",\"kind\":\"Any\",\"default\":\"\"},{\"name\":\"debug_name\",\"kind\":\"Any\",\"default\":\"\"},{\"name\":\"clears\",\"kind\":\"Any\",\"default\":0}]},{\"type\":\"model\",\"name\":\"toggle_value1\",\"properties\":[{\"name\":\"active_icons\",\"kind\":\"Any\",\"default\":{\"type\":\"map\"}},{\"name\":\"options\",\"kind\":\"Any\",\"default\":{\"type\":\"map\",\"entries\":[[\"favorite\",\"heart\"]]}},{\"name\":\"value\",\"kind\":\"Any\",\"default\":[]},{\"name\":\"_reactions\",\"kind\":\"Any\",\"default\":[]},{\"name\":\"_base_url\",\"kind\":\"Any\",\"default\":\"https://tabler-icons.io/static/tabler-icons/icons/\"}]},{\"type\":\"model\",\"name\":\"copy_to_clipboard1\",\"properties\":[{\"name\":\"value\",\"kind\":\"Any\",\"default\":null},{\"name\":\"fill\",\"kind\":\"Any\",\"default\":\"none\"}]},{\"type\":\"model\",\"name\":\"FastWrapper1\",\"properties\":[{\"name\":\"object\",\"kind\":\"Any\",\"default\":null},{\"name\":\"style\",\"kind\":\"Any\",\"default\":null}]},{\"type\":\"model\",\"name\":\"NotificationAreaBase1\",\"properties\":[{\"name\":\"js_events\",\"kind\":\"Any\",\"default\":{\"type\":\"map\"}},{\"name\":\"position\",\"kind\":\"Any\",\"default\":\"bottom-right\"},{\"name\":\"_clear\",\"kind\":\"Any\",\"default\":0}]},{\"type\":\"model\",\"name\":\"NotificationArea1\",\"properties\":[{\"name\":\"js_events\",\"kind\":\"Any\",\"default\":{\"type\":\"map\"}},{\"name\":\"notifications\",\"kind\":\"Any\",\"default\":[]},{\"name\":\"position\",\"kind\":\"Any\",\"default\":\"bottom-right\"},{\"name\":\"_clear\",\"kind\":\"Any\",\"default\":0},{\"name\":\"types\",\"kind\":\"Any\",\"default\":[{\"type\":\"map\",\"entries\":[[\"type\",\"warning\"],[\"background\",\"#ffc107\"],[\"icon\",{\"type\":\"map\",\"entries\":[[\"className\",\"fas fa-exclamation-triangle\"],[\"tagName\",\"i\"],[\"color\",\"white\"]]}]]},{\"type\":\"map\",\"entries\":[[\"type\",\"info\"],[\"background\",\"#007bff\"],[\"icon\",{\"type\":\"map\",\"entries\":[[\"className\",\"fas fa-info-circle\"],[\"tagName\",\"i\"],[\"color\",\"white\"]]}]]}]}]},{\"type\":\"model\",\"name\":\"Notification\",\"properties\":[{\"name\":\"background\",\"kind\":\"Any\",\"default\":null},{\"name\":\"duration\",\"kind\":\"Any\",\"default\":3000},{\"name\":\"icon\",\"kind\":\"Any\",\"default\":null},{\"name\":\"message\",\"kind\":\"Any\",\"default\":\"\"},{\"name\":\"notification_type\",\"kind\":\"Any\",\"default\":null},{\"name\":\"_destroyed\",\"kind\":\"Any\",\"default\":false}]},{\"type\":\"model\",\"name\":\"TemplateActions1\",\"properties\":[{\"name\":\"open_modal\",\"kind\":\"Any\",\"default\":0},{\"name\":\"close_modal\",\"kind\":\"Any\",\"default\":0}]},{\"type\":\"model\",\"name\":\"BootstrapTemplateActions1\",\"properties\":[{\"name\":\"open_modal\",\"kind\":\"Any\",\"default\":0},{\"name\":\"close_modal\",\"kind\":\"Any\",\"default\":0}]},{\"type\":\"model\",\"name\":\"MaterialTemplateActions1\",\"properties\":[{\"name\":\"open_modal\",\"kind\":\"Any\",\"default\":0},{\"name\":\"close_modal\",\"kind\":\"Any\",\"default\":0}]}]}};\n",
       "  var render_items = [{\"docid\":\"de91cec3-819f-4913-80c9-cd229d0da0f2\",\"roots\":{\"p9979\":\"f7280e52-3476-42fa-8159-d06f8770cafc\"},\"root_ids\":[\"p9979\"]}];\n",
       "  var docs = Object.values(docs_json)\n",
       "  if (!docs) {\n",
       "    return\n",
       "  }\n",
       "  const py_version = docs[0].version.replace('rc', '-rc.').replace('.dev', '-dev.')\n",
       "  const is_dev = py_version.indexOf(\"+\") !== -1 || py_version.indexOf(\"-\") !== -1\n",
       "  function embed_document(root) {\n",
       "    var Bokeh = get_bokeh(root)\n",
       "    Bokeh.embed.embed_items_notebook(docs_json, render_items);\n",
       "    for (const render_item of render_items) {\n",
       "      for (const root_id of render_item.root_ids) {\n",
       "\tconst id_el = document.getElementById(root_id)\n",
       "\tif (id_el.children.length && (id_el.children[0].className === 'bk-root')) {\n",
       "\t  const root_el = id_el.children[0]\n",
       "\t  root_el.id = root_el.id + '-rendered'\n",
       "\t}\n",
       "      }\n",
       "    }\n",
       "  }\n",
       "  function get_bokeh(root) {\n",
       "    if (root.Bokeh === undefined) {\n",
       "      return null\n",
       "    } else if (root.Bokeh.version !== py_version && !is_dev) {\n",
       "      if (root.Bokeh.versions === undefined || !root.Bokeh.versions.has(py_version)) {\n",
       "\treturn null\n",
       "      }\n",
       "      return root.Bokeh.versions.get(py_version);\n",
       "    } else if (root.Bokeh.version === py_version) {\n",
       "      return root.Bokeh\n",
       "    }\n",
       "    return null\n",
       "  }\n",
       "  function is_loaded(root) {\n",
       "    var Bokeh = get_bokeh(root)\n",
       "    return (Bokeh != null && Bokeh.Panel !== undefined)\n",
       "  }\n",
       "  if (is_loaded(root)) {\n",
       "    embed_document(root);\n",
       "  } else {\n",
       "    var attempts = 0;\n",
       "    var timer = setInterval(function(root) {\n",
       "      if (is_loaded(root)) {\n",
       "        clearInterval(timer);\n",
       "        embed_document(root);\n",
       "      } else if (document.readyState == \"complete\") {\n",
       "        attempts++;\n",
       "        if (attempts > 200) {\n",
       "          clearInterval(timer);\n",
       "\t  var Bokeh = get_bokeh(root)\n",
       "\t  if (Bokeh == null || Bokeh.Panel == null) {\n",
       "            console.warn(\"Panel: ERROR: Unable to run Panel code because Bokeh or Panel library is missing\");\n",
       "\t  } else {\n",
       "\t    console.warn(\"Panel: WARNING: Attempting to render but not all required libraries could be resolved.\")\n",
       "\t    embed_document(root)\n",
       "\t  }\n",
       "        }\n",
       "      }\n",
       "    }, 25, root)\n",
       "  }\n",
       "})(window);</script>"
      ],
      "text/plain": [
       ":Overlay\n",
       "   .Curve.I   :Curve   [acquisition_date]   (cloud_cover)\n",
       "   .Scatter.I :Scatter   [acquisition_date]   (cloud_cover,satellite,tile)"
      ]
     },
     "execution_count": 226,
     "metadata": {
      "application/vnd.holoviews_exec.v0+json": {
       "id": "p9979"
      }
     },
     "output_type": "execute_result"
    }
   ],
   "source": [
    "plot_scenes = df_scenes.hvplot.line(title=f'Available Landsat C2 scenes over ROI\\n{search_params[\"start_date\"]} to {search_params[\"end_date\"]}, n={df_scenes.shape[0]}',\n",
    "    x='acquisition_date', y='cloud_cover', color='grey', grid=True) *\\\n",
    "                df_scenes.hvplot.scatter(x='acquisition_date', y='cloud_cover', c='satellite',\n",
    "                                       hover_cols=['tile', 'acquisition_date'],\n",
    "                                       xlabel='Acq. date', ylabel='Cloud cover (%)', marker='o')\n",
    "plot_scenes"
   ]
  },
  {
   "cell_type": "markdown",
   "id": "d48bc0da",
   "metadata": {},
   "source": [
    "## 2. Download scenes\n",
    "### Filter and select scene IDs"
   ]
  },
  {
   "cell_type": "code",
   "execution_count": 227,
   "id": "95ab9662",
   "metadata": {},
   "outputs": [
    {
     "data": {
      "text/html": [
       "<div>\n",
       "<style scoped>\n",
       "    .dataframe tbody tr th:only-of-type {\n",
       "        vertical-align: middle;\n",
       "    }\n",
       "\n",
       "    .dataframe tbody tr th {\n",
       "        vertical-align: top;\n",
       "    }\n",
       "\n",
       "    .dataframe thead th {\n",
       "        text-align: right;\n",
       "    }\n",
       "</style>\n",
       "<table border=\"1\" class=\"dataframe\">\n",
       "  <thead>\n",
       "    <tr style=\"text-align: right;\">\n",
       "      <th></th>\n",
       "      <th>display_id</th>\n",
       "      <th>wrs_path</th>\n",
       "      <th>wrs_row</th>\n",
       "      <th>satellite</th>\n",
       "      <th>cloud_cover</th>\n",
       "      <th>acquisition_date</th>\n",
       "      <th>spatial_coverage</th>\n",
       "      <th>tile</th>\n",
       "    </tr>\n",
       "  </thead>\n",
       "  <tbody>\n",
       "    <tr>\n",
       "      <th>34</th>\n",
       "      <td>LC08_L1TP_196028_20230811_20230818_02_T1</td>\n",
       "      <td>196</td>\n",
       "      <td>28</td>\n",
       "      <td>Landsat-8</td>\n",
       "      <td>1</td>\n",
       "      <td>2023-08-11</td>\n",
       "      <td>POLYGON ((4.39496 45.38193, 6.75219 44.95209, ...</td>\n",
       "      <td>196/028</td>\n",
       "    </tr>\n",
       "    <tr>\n",
       "      <th>52</th>\n",
       "      <td>LC08_L1TP_196028_20230624_20230630_02_T1</td>\n",
       "      <td>196</td>\n",
       "      <td>28</td>\n",
       "      <td>Landsat-8</td>\n",
       "      <td>1</td>\n",
       "      <td>2023-06-24</td>\n",
       "      <td>POLYGON ((4.39833 45.382, 6.7553 44.95215, 7.4...</td>\n",
       "      <td>196/028</td>\n",
       "    </tr>\n",
       "  </tbody>\n",
       "</table>\n",
       "</div>"
      ],
      "text/plain": [
       "                                  display_id  wrs_path  wrs_row  satellite  \\\n",
       "34  LC08_L1TP_196028_20230811_20230818_02_T1       196       28  Landsat-8   \n",
       "52  LC08_L1TP_196028_20230624_20230630_02_T1       196       28  Landsat-8   \n",
       "\n",
       "    cloud_cover acquisition_date  \\\n",
       "34            1       2023-08-11   \n",
       "52            1       2023-06-24   \n",
       "\n",
       "                                     spatial_coverage     tile  \n",
       "34  POLYGON ((4.39496 45.38193, 6.75219 44.95209, ...  196/028  \n",
       "52  POLYGON ((4.39833 45.382, 6.7553 44.95215, 7.4...  196/028  "
      ]
     },
     "execution_count": 227,
     "metadata": {},
     "output_type": "execute_result"
    }
   ],
   "source": [
    "# Select scene ids to download from dataframe\n",
    "#ids = df_scenes.display_id.values # all\n",
    "df_scenes_filt = df_scenes.loc[(df_scenes.cloud_cover < 2) & (df_scenes.tile=='196/028')] # filter by cloudcover and tile\n",
    "ids = df_scenes_filt.display_id.values\n",
    "df_scenes_filt"
   ]
  },
  {
   "cell_type": "markdown",
   "id": "41cc022e-2d4c-456b-8d62-64235984201a",
   "metadata": {},
   "source": [
    "### Download .tar files"
   ]
  },
  {
   "cell_type": "code",
   "execution_count": 228,
   "id": "f9835322",
   "metadata": {},
   "outputs": [
    {
     "name": "stderr",
     "output_type": "stream",
     "text": [
      "\n",
      "100%|█████████████████████████████████████████████████████████████████████████████| 1.18G/1.18G [00:42<00:00, 29.8MB/s]\u001b[A\n",
      "\n",
      "Total download progress:  50%|█████████████████████████████▌                             | 1/2 [00:48<00:48, 48.55s/it]\u001b[A"
     ]
    },
    {
     "name": "stdout",
     "output_type": "stream",
     "text": [
      "LC08_L1TP_196028_20230811_20230818_02_T1 successful\n",
      "Download failed with dataset id 1 of 3. Re-trying with the next one.\n",
      "Download failed with dataset id 2 of 3. Re-trying with the next one.\n"
     ]
    },
    {
     "name": "stderr",
     "output_type": "stream",
     "text": [
      "100%|█████████████████████████████████████████████████████████████████████████████| 1.19G/1.19G [00:37<00:00, 33.9MB/s]\n",
      "\n",
      "Total download progress: 100%|███████████████████████████████████████████████████████████| 2/2 [02:16<00:00, 68.45s/it]\u001b[A\n"
     ]
    },
    {
     "name": "stdout",
     "output_type": "stream",
     "text": [
      "LC08_L1TP_196028_20230624_20230630_02_T1 successful\n"
     ]
    }
   ],
   "source": [
    "# set output directory\n",
    "path_output_dir = Path(r'E:/landsat_c2l2')\n",
    "\n",
    "# initialize the API\n",
    "ee = EarthExplorer(username, password)\n",
    "\n",
    "# download the scenes\n",
    "for id in tqdm(ids, total=len(ids), desc=\"Total download progress\", position=-1):\n",
    "    path_output_file = path_output_dir.joinpath(id+'.tar')\n",
    "    try:\n",
    "        ee.download(id, output_dir=path_output_dir)\n",
    "        print('{} successful'.format(id))\n",
    "\n",
    "  # aditional error handling\n",
    "    except:\n",
    "        if path_output_file.exists():\n",
    "            print(f'{id} error but file exists')\n",
    "        else:\n",
    "            print(f'{id} error')\n",
    "\n",
    "ee.logout()"
   ]
  },
  {
   "cell_type": "markdown",
   "id": "a04a6d84-f531-49c7-9e81-7a24c9471c8d",
   "metadata": {},
   "source": [
    "### Extract .tar files"
   ]
  },
  {
   "cell_type": "code",
   "execution_count": 229,
   "id": "87827e22-4f8f-4c40-b214-51a635355f86",
   "metadata": {},
   "outputs": [
    {
     "name": "stderr",
     "output_type": "stream",
     "text": [
      "Total extraction progress: 100%|█████████████████████████████████████████████████████████| 2/2 [00:29<00:00, 14.63s/it]\n"
     ]
    }
   ],
   "source": [
    "# Extract .tar files into folders\n",
    "paths_output = list(path_output_dir.glob('*.tar'))\n",
    "\n",
    "for path in tqdm(paths_output, desc=\"Total extraction progress\"):\n",
    "    with closing(tarfile.open(path)) as fl:\n",
    "        path_output_folder = path_output_dir.joinpath(path.name.split('.')[0])\n",
    "        path_output_folder.mkdir(parents=True, exist_ok=True)\n",
    "        fl.extractall(path_output_folder)\n",
    "    path.unlink()"
   ]
  },
  {
   "cell_type": "code",
   "execution_count": null,
   "id": "cad14647-0e5e-4b13-811e-7ea6b57f95b1",
   "metadata": {},
   "outputs": [],
   "source": []
  }
 ],
 "metadata": {
  "kernelspec": {
   "display_name": "Python 3 (ipykernel)",
   "language": "python",
   "name": "python3"
  },
  "language_info": {
   "codemirror_mode": {
    "name": "ipython",
    "version": 3
   },
   "file_extension": ".py",
   "mimetype": "text/x-python",
   "name": "python",
   "nbconvert_exporter": "python",
   "pygments_lexer": "ipython3",
   "version": "3.11.6"
  }
 },
 "nbformat": 4,
 "nbformat_minor": 5
}
